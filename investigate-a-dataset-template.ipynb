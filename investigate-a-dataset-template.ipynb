{
 "cells": [
  {
   "cell_type": "markdown",
   "metadata": {},
   "source": [
    "# Project: Investigate The FBI Gun Data\n",
    "\n",
    "## Table of Contents\n",
    "<ul>\n",
    "<li><a href=\"#intro\">Introduction</a></li>\n",
    "<li><a href=\"#wrangling\">Data Wrangling</a></li>\n",
    "<li><a href=\"#eda\">Exploratory Data Analysis</a></li>\n",
    "<li><a href=\"#conclusions\">Conclusions</a></li>\n",
    "</ul>"
   ]
  },
  {
   "cell_type": "markdown",
   "metadata": {},
   "source": [
    "<a id='intro'></a>\n",
    "## Introduction\n",
    "\n",
    "### The data comes from the FBI's National Instant Criminal Background Check System. The NICS is used by to determine whether a prospective buyer is eligible to buy firearms or explosives. Gun shops call into this system to ensure that each customer does not have a criminal record or isn’t otherwise ineligible to make a purchase. The data has been supplemented with state level data from [census.gov](https://www.census.gov/).\n",
    "- The <u>'NICS data</u>' is found in one sheet of an .xlsx file. It contains the number of firearm checks by month, state, and type.\n",
    "- The <u>'U.S. census data</u>' is found in a .csv file. It contains several variables at the state level. Most variables just have one data point per state (2016), but a few have data for more than one year."
   ]
  },
  {
   "cell_type": "code",
   "execution_count": 2,
   "metadata": {},
   "outputs": [],
   "source": [
    "# set up import statements for all of the packages that you plan to use.\n",
    "import pandas as pd\n",
    "import numpy as np\n",
    "import matplotlib.pyplot as plt\n",
    "import seaborn as sns\n",
    "%matplotlib inline\n",
    "sns.set_style('darkgrid')"
   ]
  },
  {
   "cell_type": "markdown",
   "metadata": {},
   "source": [
    "<a id='wrangling'></a>\n",
    "## Data Wrangling\n",
    "\n",
    "> I will load in the data, check for cleanliness, and then trim and clean your dataset for analysis."
   ]
  },
  {
   "cell_type": "markdown",
   "metadata": {},
   "source": [
    "## Gathering Data"
   ]
  },
  {
   "cell_type": "code",
   "execution_count": 3,
   "metadata": {},
   "outputs": [],
   "source": [
    "# Load your data\n",
    "df_gun=pd.read_excel('gun_data.xlsx',sheet_name='Sheet1')\n",
    "df_census=pd.read_csv('U.S. Census Data.csv')"
   ]
  },
  {
   "cell_type": "code",
   "execution_count": 4,
   "metadata": {},
   "outputs": [
    {
     "data": {
      "text/html": [
       "<div>\n",
       "<style scoped>\n",
       "    .dataframe tbody tr th:only-of-type {\n",
       "        vertical-align: middle;\n",
       "    }\n",
       "\n",
       "    .dataframe tbody tr th {\n",
       "        vertical-align: top;\n",
       "    }\n",
       "\n",
       "    .dataframe thead th {\n",
       "        text-align: right;\n",
       "    }\n",
       "</style>\n",
       "<table border=\"1\" class=\"dataframe\">\n",
       "  <thead>\n",
       "    <tr style=\"text-align: right;\">\n",
       "      <th></th>\n",
       "      <th>month</th>\n",
       "      <th>state</th>\n",
       "      <th>permit</th>\n",
       "      <th>permit_recheck</th>\n",
       "      <th>handgun</th>\n",
       "      <th>long_gun</th>\n",
       "      <th>other</th>\n",
       "      <th>multiple</th>\n",
       "      <th>admin</th>\n",
       "      <th>prepawn_handgun</th>\n",
       "      <th>...</th>\n",
       "      <th>returned_other</th>\n",
       "      <th>rentals_handgun</th>\n",
       "      <th>rentals_long_gun</th>\n",
       "      <th>private_sale_handgun</th>\n",
       "      <th>private_sale_long_gun</th>\n",
       "      <th>private_sale_other</th>\n",
       "      <th>return_to_seller_handgun</th>\n",
       "      <th>return_to_seller_long_gun</th>\n",
       "      <th>return_to_seller_other</th>\n",
       "      <th>totals</th>\n",
       "    </tr>\n",
       "  </thead>\n",
       "  <tbody>\n",
       "    <tr>\n",
       "      <th>0</th>\n",
       "      <td>2017-09</td>\n",
       "      <td>Alabama</td>\n",
       "      <td>16717.0</td>\n",
       "      <td>0.0</td>\n",
       "      <td>5734.0</td>\n",
       "      <td>6320.0</td>\n",
       "      <td>221.0</td>\n",
       "      <td>317</td>\n",
       "      <td>0.0</td>\n",
       "      <td>15.0</td>\n",
       "      <td>...</td>\n",
       "      <td>0.0</td>\n",
       "      <td>0.0</td>\n",
       "      <td>0.0</td>\n",
       "      <td>9.0</td>\n",
       "      <td>16.0</td>\n",
       "      <td>3.0</td>\n",
       "      <td>0.0</td>\n",
       "      <td>0.0</td>\n",
       "      <td>3.0</td>\n",
       "      <td>32019</td>\n",
       "    </tr>\n",
       "    <tr>\n",
       "      <th>1</th>\n",
       "      <td>2017-09</td>\n",
       "      <td>Alaska</td>\n",
       "      <td>209.0</td>\n",
       "      <td>2.0</td>\n",
       "      <td>2320.0</td>\n",
       "      <td>2930.0</td>\n",
       "      <td>219.0</td>\n",
       "      <td>160</td>\n",
       "      <td>0.0</td>\n",
       "      <td>5.0</td>\n",
       "      <td>...</td>\n",
       "      <td>0.0</td>\n",
       "      <td>0.0</td>\n",
       "      <td>0.0</td>\n",
       "      <td>17.0</td>\n",
       "      <td>24.0</td>\n",
       "      <td>1.0</td>\n",
       "      <td>0.0</td>\n",
       "      <td>0.0</td>\n",
       "      <td>0.0</td>\n",
       "      <td>6303</td>\n",
       "    </tr>\n",
       "    <tr>\n",
       "      <th>2</th>\n",
       "      <td>2017-09</td>\n",
       "      <td>Arizona</td>\n",
       "      <td>5069.0</td>\n",
       "      <td>382.0</td>\n",
       "      <td>11063.0</td>\n",
       "      <td>7946.0</td>\n",
       "      <td>920.0</td>\n",
       "      <td>631</td>\n",
       "      <td>0.0</td>\n",
       "      <td>13.0</td>\n",
       "      <td>...</td>\n",
       "      <td>0.0</td>\n",
       "      <td>0.0</td>\n",
       "      <td>0.0</td>\n",
       "      <td>38.0</td>\n",
       "      <td>12.0</td>\n",
       "      <td>2.0</td>\n",
       "      <td>0.0</td>\n",
       "      <td>0.0</td>\n",
       "      <td>0.0</td>\n",
       "      <td>28394</td>\n",
       "    </tr>\n",
       "    <tr>\n",
       "      <th>3</th>\n",
       "      <td>2017-09</td>\n",
       "      <td>Arkansas</td>\n",
       "      <td>2935.0</td>\n",
       "      <td>632.0</td>\n",
       "      <td>4347.0</td>\n",
       "      <td>6063.0</td>\n",
       "      <td>165.0</td>\n",
       "      <td>366</td>\n",
       "      <td>51.0</td>\n",
       "      <td>12.0</td>\n",
       "      <td>...</td>\n",
       "      <td>0.0</td>\n",
       "      <td>0.0</td>\n",
       "      <td>0.0</td>\n",
       "      <td>13.0</td>\n",
       "      <td>23.0</td>\n",
       "      <td>0.0</td>\n",
       "      <td>0.0</td>\n",
       "      <td>2.0</td>\n",
       "      <td>1.0</td>\n",
       "      <td>17747</td>\n",
       "    </tr>\n",
       "    <tr>\n",
       "      <th>4</th>\n",
       "      <td>2017-09</td>\n",
       "      <td>California</td>\n",
       "      <td>57839.0</td>\n",
       "      <td>0.0</td>\n",
       "      <td>37165.0</td>\n",
       "      <td>24581.0</td>\n",
       "      <td>2984.0</td>\n",
       "      <td>0</td>\n",
       "      <td>0.0</td>\n",
       "      <td>0.0</td>\n",
       "      <td>...</td>\n",
       "      <td>0.0</td>\n",
       "      <td>0.0</td>\n",
       "      <td>0.0</td>\n",
       "      <td>0.0</td>\n",
       "      <td>0.0</td>\n",
       "      <td>0.0</td>\n",
       "      <td>0.0</td>\n",
       "      <td>0.0</td>\n",
       "      <td>0.0</td>\n",
       "      <td>123506</td>\n",
       "    </tr>\n",
       "  </tbody>\n",
       "</table>\n",
       "<p>5 rows × 27 columns</p>\n",
       "</div>"
      ],
      "text/plain": [
       "     month       state   permit  permit_recheck  handgun  long_gun   other  \\\n",
       "0  2017-09     Alabama  16717.0             0.0   5734.0    6320.0   221.0   \n",
       "1  2017-09      Alaska    209.0             2.0   2320.0    2930.0   219.0   \n",
       "2  2017-09     Arizona   5069.0           382.0  11063.0    7946.0   920.0   \n",
       "3  2017-09    Arkansas   2935.0           632.0   4347.0    6063.0   165.0   \n",
       "4  2017-09  California  57839.0             0.0  37165.0   24581.0  2984.0   \n",
       "\n",
       "   multiple  admin  prepawn_handgun   ...    returned_other  rentals_handgun  \\\n",
       "0       317    0.0             15.0   ...               0.0              0.0   \n",
       "1       160    0.0              5.0   ...               0.0              0.0   \n",
       "2       631    0.0             13.0   ...               0.0              0.0   \n",
       "3       366   51.0             12.0   ...               0.0              0.0   \n",
       "4         0    0.0              0.0   ...               0.0              0.0   \n",
       "\n",
       "   rentals_long_gun  private_sale_handgun  private_sale_long_gun  \\\n",
       "0               0.0                   9.0                   16.0   \n",
       "1               0.0                  17.0                   24.0   \n",
       "2               0.0                  38.0                   12.0   \n",
       "3               0.0                  13.0                   23.0   \n",
       "4               0.0                   0.0                    0.0   \n",
       "\n",
       "   private_sale_other  return_to_seller_handgun  return_to_seller_long_gun  \\\n",
       "0                 3.0                       0.0                        0.0   \n",
       "1                 1.0                       0.0                        0.0   \n",
       "2                 2.0                       0.0                        0.0   \n",
       "3                 0.0                       0.0                        2.0   \n",
       "4                 0.0                       0.0                        0.0   \n",
       "\n",
       "   return_to_seller_other  totals  \n",
       "0                     3.0   32019  \n",
       "1                     0.0    6303  \n",
       "2                     0.0   28394  \n",
       "3                     1.0   17747  \n",
       "4                     0.0  123506  \n",
       "\n",
       "[5 rows x 27 columns]"
      ]
     },
     "execution_count": 4,
     "metadata": {},
     "output_type": "execute_result"
    }
   ],
   "source": [
    "# print the first 5 rows of gun dataset\n",
    "df_gun.head()"
   ]
  },
  {
   "cell_type": "code",
   "execution_count": 5,
   "metadata": {},
   "outputs": [
    {
     "data": {
      "text/html": [
       "<div>\n",
       "<style scoped>\n",
       "    .dataframe tbody tr th:only-of-type {\n",
       "        vertical-align: middle;\n",
       "    }\n",
       "\n",
       "    .dataframe tbody tr th {\n",
       "        vertical-align: top;\n",
       "    }\n",
       "\n",
       "    .dataframe thead th {\n",
       "        text-align: right;\n",
       "    }\n",
       "</style>\n",
       "<table border=\"1\" class=\"dataframe\">\n",
       "  <thead>\n",
       "    <tr style=\"text-align: right;\">\n",
       "      <th></th>\n",
       "      <th>Fact</th>\n",
       "      <th>Fact Note</th>\n",
       "      <th>Alabama</th>\n",
       "      <th>Alaska</th>\n",
       "      <th>Arizona</th>\n",
       "      <th>Arkansas</th>\n",
       "      <th>California</th>\n",
       "      <th>Colorado</th>\n",
       "      <th>Connecticut</th>\n",
       "      <th>Delaware</th>\n",
       "      <th>...</th>\n",
       "      <th>South Dakota</th>\n",
       "      <th>Tennessee</th>\n",
       "      <th>Texas</th>\n",
       "      <th>Utah</th>\n",
       "      <th>Vermont</th>\n",
       "      <th>Virginia</th>\n",
       "      <th>Washington</th>\n",
       "      <th>West Virginia</th>\n",
       "      <th>Wisconsin</th>\n",
       "      <th>Wyoming</th>\n",
       "    </tr>\n",
       "  </thead>\n",
       "  <tbody>\n",
       "    <tr>\n",
       "      <th>0</th>\n",
       "      <td>Population estimates, July 1, 2016,  (V2016)</td>\n",
       "      <td>NaN</td>\n",
       "      <td>4,863,300</td>\n",
       "      <td>741,894</td>\n",
       "      <td>6,931,071</td>\n",
       "      <td>2,988,248</td>\n",
       "      <td>39,250,017</td>\n",
       "      <td>5,540,545</td>\n",
       "      <td>3,576,452</td>\n",
       "      <td>952,065</td>\n",
       "      <td>...</td>\n",
       "      <td>865454</td>\n",
       "      <td>6651194</td>\n",
       "      <td>27,862,596</td>\n",
       "      <td>3,051,217</td>\n",
       "      <td>624,594</td>\n",
       "      <td>8,411,808</td>\n",
       "      <td>7,288,000</td>\n",
       "      <td>1,831,102</td>\n",
       "      <td>5,778,708</td>\n",
       "      <td>585,501</td>\n",
       "    </tr>\n",
       "    <tr>\n",
       "      <th>1</th>\n",
       "      <td>Population estimates base, April 1, 2010,  (V2...</td>\n",
       "      <td>NaN</td>\n",
       "      <td>4,780,131</td>\n",
       "      <td>710,249</td>\n",
       "      <td>6,392,301</td>\n",
       "      <td>2,916,025</td>\n",
       "      <td>37,254,522</td>\n",
       "      <td>5,029,324</td>\n",
       "      <td>3,574,114</td>\n",
       "      <td>897,936</td>\n",
       "      <td>...</td>\n",
       "      <td>814195</td>\n",
       "      <td>6346298</td>\n",
       "      <td>25,146,100</td>\n",
       "      <td>2,763,888</td>\n",
       "      <td>625,741</td>\n",
       "      <td>8,001,041</td>\n",
       "      <td>6,724,545</td>\n",
       "      <td>1,853,011</td>\n",
       "      <td>5,687,289</td>\n",
       "      <td>563,767</td>\n",
       "    </tr>\n",
       "    <tr>\n",
       "      <th>2</th>\n",
       "      <td>Population, percent change - April 1, 2010 (es...</td>\n",
       "      <td>NaN</td>\n",
       "      <td>1.70%</td>\n",
       "      <td>4.50%</td>\n",
       "      <td>8.40%</td>\n",
       "      <td>2.50%</td>\n",
       "      <td>5.40%</td>\n",
       "      <td>10.20%</td>\n",
       "      <td>0.10%</td>\n",
       "      <td>6.00%</td>\n",
       "      <td>...</td>\n",
       "      <td>0.063</td>\n",
       "      <td>0.048</td>\n",
       "      <td>10.80%</td>\n",
       "      <td>10.40%</td>\n",
       "      <td>-0.20%</td>\n",
       "      <td>5.10%</td>\n",
       "      <td>8.40%</td>\n",
       "      <td>-1.20%</td>\n",
       "      <td>1.60%</td>\n",
       "      <td>3.90%</td>\n",
       "    </tr>\n",
       "    <tr>\n",
       "      <th>3</th>\n",
       "      <td>Population, Census, April 1, 2010</td>\n",
       "      <td>NaN</td>\n",
       "      <td>4,779,736</td>\n",
       "      <td>710,231</td>\n",
       "      <td>6,392,017</td>\n",
       "      <td>2,915,918</td>\n",
       "      <td>37,253,956</td>\n",
       "      <td>5,029,196</td>\n",
       "      <td>3,574,097</td>\n",
       "      <td>897,934</td>\n",
       "      <td>...</td>\n",
       "      <td>814180</td>\n",
       "      <td>6346105</td>\n",
       "      <td>25,145,561</td>\n",
       "      <td>2,763,885</td>\n",
       "      <td>625,741</td>\n",
       "      <td>8,001,024</td>\n",
       "      <td>6,724,540</td>\n",
       "      <td>1,852,994</td>\n",
       "      <td>5,686,986</td>\n",
       "      <td>563,626</td>\n",
       "    </tr>\n",
       "    <tr>\n",
       "      <th>4</th>\n",
       "      <td>Persons under 5 years, percent, July 1, 2016, ...</td>\n",
       "      <td>NaN</td>\n",
       "      <td>6.00%</td>\n",
       "      <td>7.30%</td>\n",
       "      <td>6.30%</td>\n",
       "      <td>6.40%</td>\n",
       "      <td>6.30%</td>\n",
       "      <td>6.10%</td>\n",
       "      <td>5.20%</td>\n",
       "      <td>5.80%</td>\n",
       "      <td>...</td>\n",
       "      <td>0.071</td>\n",
       "      <td>0.061</td>\n",
       "      <td>7.20%</td>\n",
       "      <td>8.30%</td>\n",
       "      <td>4.90%</td>\n",
       "      <td>6.10%</td>\n",
       "      <td>6.20%</td>\n",
       "      <td>5.50%</td>\n",
       "      <td>5.80%</td>\n",
       "      <td>6.50%</td>\n",
       "    </tr>\n",
       "  </tbody>\n",
       "</table>\n",
       "<p>5 rows × 52 columns</p>\n",
       "</div>"
      ],
      "text/plain": [
       "                                                Fact Fact Note    Alabama  \\\n",
       "0       Population estimates, July 1, 2016,  (V2016)       NaN  4,863,300   \n",
       "1  Population estimates base, April 1, 2010,  (V2...       NaN  4,780,131   \n",
       "2  Population, percent change - April 1, 2010 (es...       NaN      1.70%   \n",
       "3                  Population, Census, April 1, 2010       NaN  4,779,736   \n",
       "4  Persons under 5 years, percent, July 1, 2016, ...       NaN      6.00%   \n",
       "\n",
       "    Alaska    Arizona   Arkansas  California   Colorado Connecticut Delaware  \\\n",
       "0  741,894  6,931,071  2,988,248  39,250,017  5,540,545   3,576,452  952,065   \n",
       "1  710,249  6,392,301  2,916,025  37,254,522  5,029,324   3,574,114  897,936   \n",
       "2    4.50%      8.40%      2.50%       5.40%     10.20%       0.10%    6.00%   \n",
       "3  710,231  6,392,017  2,915,918  37,253,956  5,029,196   3,574,097  897,934   \n",
       "4    7.30%      6.30%      6.40%       6.30%      6.10%       5.20%    5.80%   \n",
       "\n",
       "    ...    South Dakota Tennessee       Texas       Utah  Vermont   Virginia  \\\n",
       "0   ...          865454   6651194  27,862,596  3,051,217  624,594  8,411,808   \n",
       "1   ...          814195   6346298  25,146,100  2,763,888  625,741  8,001,041   \n",
       "2   ...           0.063     0.048      10.80%     10.40%   -0.20%      5.10%   \n",
       "3   ...          814180   6346105  25,145,561  2,763,885  625,741  8,001,024   \n",
       "4   ...           0.071     0.061       7.20%      8.30%    4.90%      6.10%   \n",
       "\n",
       "  Washington West Virginia  Wisconsin  Wyoming  \n",
       "0  7,288,000     1,831,102  5,778,708  585,501  \n",
       "1  6,724,545     1,853,011  5,687,289  563,767  \n",
       "2      8.40%        -1.20%      1.60%    3.90%  \n",
       "3  6,724,540     1,852,994  5,686,986  563,626  \n",
       "4      6.20%         5.50%      5.80%    6.50%  \n",
       "\n",
       "[5 rows x 52 columns]"
      ]
     },
     "execution_count": 5,
     "metadata": {},
     "output_type": "execute_result"
    }
   ],
   "source": [
    "# print the first 5 rows of census dataset\n",
    "df_census.head()"
   ]
  },
  {
   "cell_type": "markdown",
   "metadata": {},
   "source": [
    "## Asking Questions\n",
    "- What is the average revenue of firms of all the states in 2012?\n",
    "- What is the average revenue of men-owned and women-owned firms of all the states in 2012?which bigger and how much ?\n",
    "- Which states have had the highest growth in gun registrations?\n",
    "- What is the overall trend of gun purchases?\n",
    "- How many guns were registered in total in April, 2006?\n",
    "- What type of gun has highest quantity, and the relationship to totals?\n",
    "- What is the sum of registered gun in each state over time?Which state highest?And how many?"
   ]
  },
  {
   "cell_type": "markdown",
   "metadata": {},
   "source": [
    "## Assessing Data"
   ]
  },
  {
   "cell_type": "code",
   "execution_count": 6,
   "metadata": {},
   "outputs": [
    {
     "name": "stdout",
     "output_type": "stream",
     "text": [
      "<class 'pandas.core.frame.DataFrame'>\n",
      "RangeIndex: 12485 entries, 0 to 12484\n",
      "Data columns (total 27 columns):\n",
      "month                        12485 non-null object\n",
      "state                        12485 non-null object\n",
      "permit                       12461 non-null float64\n",
      "permit_recheck               1100 non-null float64\n",
      "handgun                      12465 non-null float64\n",
      "long_gun                     12466 non-null float64\n",
      "other                        5500 non-null float64\n",
      "multiple                     12485 non-null int64\n",
      "admin                        12462 non-null float64\n",
      "prepawn_handgun              10542 non-null float64\n",
      "prepawn_long_gun             10540 non-null float64\n",
      "prepawn_other                5115 non-null float64\n",
      "redemption_handgun           10545 non-null float64\n",
      "redemption_long_gun          10544 non-null float64\n",
      "redemption_other             5115 non-null float64\n",
      "returned_handgun             2200 non-null float64\n",
      "returned_long_gun            2145 non-null float64\n",
      "returned_other               1815 non-null float64\n",
      "rentals_handgun              990 non-null float64\n",
      "rentals_long_gun             825 non-null float64\n",
      "private_sale_handgun         2750 non-null float64\n",
      "private_sale_long_gun        2750 non-null float64\n",
      "private_sale_other           2750 non-null float64\n",
      "return_to_seller_handgun     2475 non-null float64\n",
      "return_to_seller_long_gun    2750 non-null float64\n",
      "return_to_seller_other       2255 non-null float64\n",
      "totals                       12485 non-null int64\n",
      "dtypes: float64(23), int64(2), object(2)\n",
      "memory usage: 2.6+ MB\n"
     ]
    }
   ],
   "source": [
    "# print the information of gun dataset(number of columns and rows , datatype for each column , missing values)\n",
    "df_gun.info()"
   ]
  },
  {
   "cell_type": "code",
   "execution_count": 7,
   "metadata": {},
   "outputs": [
    {
     "name": "stdout",
     "output_type": "stream",
     "text": [
      "<class 'pandas.core.frame.DataFrame'>\n",
      "RangeIndex: 85 entries, 0 to 84\n",
      "Data columns (total 52 columns):\n",
      "Fact              80 non-null object\n",
      "Fact Note         28 non-null object\n",
      "Alabama           65 non-null object\n",
      "Alaska            65 non-null object\n",
      "Arizona           65 non-null object\n",
      "Arkansas          65 non-null object\n",
      "California        65 non-null object\n",
      "Colorado          65 non-null object\n",
      "Connecticut       65 non-null object\n",
      "Delaware          65 non-null object\n",
      "Florida           65 non-null object\n",
      "Georgia           65 non-null object\n",
      "Hawaii            65 non-null object\n",
      "Idaho             65 non-null object\n",
      "Illinois          65 non-null object\n",
      "Indiana           65 non-null object\n",
      "Iowa              65 non-null object\n",
      "Kansas            65 non-null object\n",
      "Kentucky          65 non-null object\n",
      "Louisiana         65 non-null object\n",
      "Maine             65 non-null object\n",
      "Maryland          65 non-null object\n",
      "Massachusetts     65 non-null object\n",
      "Michigan          65 non-null object\n",
      "Minnesota         65 non-null object\n",
      "Mississippi       65 non-null object\n",
      "Missouri          65 non-null object\n",
      "Montana           65 non-null object\n",
      "Nebraska          65 non-null object\n",
      "Nevada            65 non-null object\n",
      "New Hampshire     65 non-null object\n",
      "New Jersey        65 non-null object\n",
      "New Mexico        65 non-null object\n",
      "New York          65 non-null object\n",
      "North Carolina    65 non-null object\n",
      "North Dakota      65 non-null object\n",
      "Ohio              65 non-null object\n",
      "Oklahoma          65 non-null object\n",
      "Oregon            65 non-null object\n",
      "Pennsylvania      65 non-null object\n",
      "Rhode Island      65 non-null object\n",
      "South Carolina    65 non-null object\n",
      "South Dakota      65 non-null object\n",
      "Tennessee         65 non-null object\n",
      "Texas             65 non-null object\n",
      "Utah              65 non-null object\n",
      "Vermont           65 non-null object\n",
      "Virginia          65 non-null object\n",
      "Washington        65 non-null object\n",
      "West Virginia     65 non-null object\n",
      "Wisconsin         65 non-null object\n",
      "Wyoming           65 non-null object\n",
      "dtypes: object(52)\n",
      "memory usage: 34.6+ KB\n"
     ]
    }
   ],
   "source": [
    "# print the information of census dataset(number of columns and rows , datatype for each column , missing values)\n",
    "df_census.info()"
   ]
  },
  {
   "cell_type": "markdown",
   "metadata": {},
   "source": [
    "### Check for Duplicated Data"
   ]
  },
  {
   "cell_type": "code",
   "execution_count": 8,
   "metadata": {},
   "outputs": [
    {
     "data": {
      "text/plain": [
       "0"
      ]
     },
     "execution_count": 8,
     "metadata": {},
     "output_type": "execute_result"
    }
   ],
   "source": [
    "# check for duplicates in the gun dataset\n",
    "df_gun.duplicated().sum()"
   ]
  },
  {
   "cell_type": "code",
   "execution_count": 9,
   "metadata": {},
   "outputs": [
    {
     "data": {
      "text/plain": [
       "3"
      ]
     },
     "execution_count": 9,
     "metadata": {},
     "output_type": "execute_result"
    }
   ],
   "source": [
    "# check for duplicates in the census dataset\n",
    "df_census.duplicated().sum()"
   ]
  },
  {
   "cell_type": "markdown",
   "metadata": {},
   "source": [
    "### Check for Null Values"
   ]
  },
  {
   "cell_type": "code",
   "execution_count": 10,
   "metadata": {},
   "outputs": [
    {
     "data": {
      "text/plain": [
       "month                        False\n",
       "state                        False\n",
       "permit                        True\n",
       "permit_recheck                True\n",
       "handgun                       True\n",
       "long_gun                      True\n",
       "other                         True\n",
       "multiple                     False\n",
       "admin                         True\n",
       "prepawn_handgun               True\n",
       "prepawn_long_gun              True\n",
       "prepawn_other                 True\n",
       "redemption_handgun            True\n",
       "redemption_long_gun           True\n",
       "redemption_other              True\n",
       "returned_handgun              True\n",
       "returned_long_gun             True\n",
       "returned_other                True\n",
       "rentals_handgun               True\n",
       "rentals_long_gun              True\n",
       "private_sale_handgun          True\n",
       "private_sale_long_gun         True\n",
       "private_sale_other            True\n",
       "return_to_seller_handgun      True\n",
       "return_to_seller_long_gun     True\n",
       "return_to_seller_other        True\n",
       "totals                       False\n",
       "dtype: bool"
      ]
     },
     "execution_count": 10,
     "metadata": {},
     "output_type": "execute_result"
    }
   ],
   "source": [
    "# check which columns have NaN values in the gun dataset\n",
    "df_gun.isnull().any()"
   ]
  },
  {
   "cell_type": "code",
   "execution_count": 11,
   "metadata": {},
   "outputs": [
    {
     "data": {
      "text/plain": [
       "month                            0\n",
       "state                            0\n",
       "permit                          24\n",
       "permit_recheck               11385\n",
       "handgun                         20\n",
       "long_gun                        19\n",
       "other                         6985\n",
       "multiple                         0\n",
       "admin                           23\n",
       "prepawn_handgun               1943\n",
       "prepawn_long_gun              1945\n",
       "prepawn_other                 7370\n",
       "redemption_handgun            1940\n",
       "redemption_long_gun           1941\n",
       "redemption_other              7370\n",
       "returned_handgun             10285\n",
       "returned_long_gun            10340\n",
       "returned_other               10670\n",
       "rentals_handgun              11495\n",
       "rentals_long_gun             11660\n",
       "private_sale_handgun          9735\n",
       "private_sale_long_gun         9735\n",
       "private_sale_other            9735\n",
       "return_to_seller_handgun     10010\n",
       "return_to_seller_long_gun     9735\n",
       "return_to_seller_other       10230\n",
       "totals                           0\n",
       "dtype: int64"
      ]
     },
     "execution_count": 11,
     "metadata": {},
     "output_type": "execute_result"
    }
   ],
   "source": [
    "# check how many NaN values fior each column in the gun dataset\n",
    "df_gun.isnull().sum()"
   ]
  },
  {
   "cell_type": "code",
   "execution_count": 12,
   "metadata": {},
   "outputs": [
    {
     "data": {
      "text/plain": [
       "Fact              True\n",
       "Fact Note         True\n",
       "Alabama           True\n",
       "Alaska            True\n",
       "Arizona           True\n",
       "Arkansas          True\n",
       "California        True\n",
       "Colorado          True\n",
       "Connecticut       True\n",
       "Delaware          True\n",
       "Florida           True\n",
       "Georgia           True\n",
       "Hawaii            True\n",
       "Idaho             True\n",
       "Illinois          True\n",
       "Indiana           True\n",
       "Iowa              True\n",
       "Kansas            True\n",
       "Kentucky          True\n",
       "Louisiana         True\n",
       "Maine             True\n",
       "Maryland          True\n",
       "Massachusetts     True\n",
       "Michigan          True\n",
       "Minnesota         True\n",
       "Mississippi       True\n",
       "Missouri          True\n",
       "Montana           True\n",
       "Nebraska          True\n",
       "Nevada            True\n",
       "New Hampshire     True\n",
       "New Jersey        True\n",
       "New Mexico        True\n",
       "New York          True\n",
       "North Carolina    True\n",
       "North Dakota      True\n",
       "Ohio              True\n",
       "Oklahoma          True\n",
       "Oregon            True\n",
       "Pennsylvania      True\n",
       "Rhode Island      True\n",
       "South Carolina    True\n",
       "South Dakota      True\n",
       "Tennessee         True\n",
       "Texas             True\n",
       "Utah              True\n",
       "Vermont           True\n",
       "Virginia          True\n",
       "Washington        True\n",
       "West Virginia     True\n",
       "Wisconsin         True\n",
       "Wyoming           True\n",
       "dtype: bool"
      ]
     },
     "execution_count": 12,
     "metadata": {},
     "output_type": "execute_result"
    }
   ],
   "source": [
    "# check which columns have NaN values in the census dataset\n",
    "df_census.isnull().any()"
   ]
  },
  {
   "cell_type": "code",
   "execution_count": 13,
   "metadata": {},
   "outputs": [
    {
     "data": {
      "text/plain": [
       "Fact               5\n",
       "Fact Note         57\n",
       "Alabama           20\n",
       "Alaska            20\n",
       "Arizona           20\n",
       "Arkansas          20\n",
       "California        20\n",
       "Colorado          20\n",
       "Connecticut       20\n",
       "Delaware          20\n",
       "Florida           20\n",
       "Georgia           20\n",
       "Hawaii            20\n",
       "Idaho             20\n",
       "Illinois          20\n",
       "Indiana           20\n",
       "Iowa              20\n",
       "Kansas            20\n",
       "Kentucky          20\n",
       "Louisiana         20\n",
       "Maine             20\n",
       "Maryland          20\n",
       "Massachusetts     20\n",
       "Michigan          20\n",
       "Minnesota         20\n",
       "Mississippi       20\n",
       "Missouri          20\n",
       "Montana           20\n",
       "Nebraska          20\n",
       "Nevada            20\n",
       "New Hampshire     20\n",
       "New Jersey        20\n",
       "New Mexico        20\n",
       "New York          20\n",
       "North Carolina    20\n",
       "North Dakota      20\n",
       "Ohio              20\n",
       "Oklahoma          20\n",
       "Oregon            20\n",
       "Pennsylvania      20\n",
       "Rhode Island      20\n",
       "South Carolina    20\n",
       "South Dakota      20\n",
       "Tennessee         20\n",
       "Texas             20\n",
       "Utah              20\n",
       "Vermont           20\n",
       "Virginia          20\n",
       "Washington        20\n",
       "West Virginia     20\n",
       "Wisconsin         20\n",
       "Wyoming           20\n",
       "dtype: int64"
      ]
     },
     "execution_count": 13,
     "metadata": {},
     "output_type": "execute_result"
    }
   ],
   "source": [
    "# check how many NaN values fior each column in the census dataset\n",
    "df_census.isnull().sum()"
   ]
  },
  {
   "cell_type": "code",
   "execution_count": 14,
   "metadata": {},
   "outputs": [
    {
     "data": {
      "text/html": [
       "<div>\n",
       "<style scoped>\n",
       "    .dataframe tbody tr th:only-of-type {\n",
       "        vertical-align: middle;\n",
       "    }\n",
       "\n",
       "    .dataframe tbody tr th {\n",
       "        vertical-align: top;\n",
       "    }\n",
       "\n",
       "    .dataframe thead th {\n",
       "        text-align: right;\n",
       "    }\n",
       "</style>\n",
       "<table border=\"1\" class=\"dataframe\">\n",
       "  <thead>\n",
       "    <tr style=\"text-align: right;\">\n",
       "      <th></th>\n",
       "      <th>permit</th>\n",
       "      <th>permit_recheck</th>\n",
       "      <th>handgun</th>\n",
       "      <th>long_gun</th>\n",
       "      <th>other</th>\n",
       "      <th>multiple</th>\n",
       "      <th>admin</th>\n",
       "      <th>prepawn_handgun</th>\n",
       "      <th>prepawn_long_gun</th>\n",
       "      <th>prepawn_other</th>\n",
       "      <th>...</th>\n",
       "      <th>returned_other</th>\n",
       "      <th>rentals_handgun</th>\n",
       "      <th>rentals_long_gun</th>\n",
       "      <th>private_sale_handgun</th>\n",
       "      <th>private_sale_long_gun</th>\n",
       "      <th>private_sale_other</th>\n",
       "      <th>return_to_seller_handgun</th>\n",
       "      <th>return_to_seller_long_gun</th>\n",
       "      <th>return_to_seller_other</th>\n",
       "      <th>totals</th>\n",
       "    </tr>\n",
       "  </thead>\n",
       "  <tbody>\n",
       "    <tr>\n",
       "      <th>count</th>\n",
       "      <td>12461.000000</td>\n",
       "      <td>1100.000000</td>\n",
       "      <td>12465.000000</td>\n",
       "      <td>12466.000000</td>\n",
       "      <td>5500.000000</td>\n",
       "      <td>12485.000000</td>\n",
       "      <td>12462.000000</td>\n",
       "      <td>10542.000000</td>\n",
       "      <td>10540.000000</td>\n",
       "      <td>5115.000000</td>\n",
       "      <td>...</td>\n",
       "      <td>1815.000000</td>\n",
       "      <td>990.000000</td>\n",
       "      <td>825.000000</td>\n",
       "      <td>2750.000000</td>\n",
       "      <td>2750.000000</td>\n",
       "      <td>2750.000000</td>\n",
       "      <td>2475.000000</td>\n",
       "      <td>2750.000000</td>\n",
       "      <td>2255.000000</td>\n",
       "      <td>12485.000000</td>\n",
       "    </tr>\n",
       "    <tr>\n",
       "      <th>mean</th>\n",
       "      <td>6413.629404</td>\n",
       "      <td>1165.956364</td>\n",
       "      <td>5940.881107</td>\n",
       "      <td>7810.847585</td>\n",
       "      <td>360.471636</td>\n",
       "      <td>268.603364</td>\n",
       "      <td>58.898090</td>\n",
       "      <td>4.828021</td>\n",
       "      <td>7.834156</td>\n",
       "      <td>0.165591</td>\n",
       "      <td>...</td>\n",
       "      <td>1.027548</td>\n",
       "      <td>0.076768</td>\n",
       "      <td>0.087273</td>\n",
       "      <td>14.936000</td>\n",
       "      <td>11.602909</td>\n",
       "      <td>1.030182</td>\n",
       "      <td>0.402020</td>\n",
       "      <td>0.441818</td>\n",
       "      <td>0.105987</td>\n",
       "      <td>21595.725911</td>\n",
       "    </tr>\n",
       "    <tr>\n",
       "      <th>std</th>\n",
       "      <td>23752.338269</td>\n",
       "      <td>9224.200609</td>\n",
       "      <td>8618.584060</td>\n",
       "      <td>9309.846140</td>\n",
       "      <td>1349.478273</td>\n",
       "      <td>783.185073</td>\n",
       "      <td>604.814818</td>\n",
       "      <td>10.907756</td>\n",
       "      <td>16.468028</td>\n",
       "      <td>1.057105</td>\n",
       "      <td>...</td>\n",
       "      <td>4.386296</td>\n",
       "      <td>0.634503</td>\n",
       "      <td>0.671649</td>\n",
       "      <td>71.216021</td>\n",
       "      <td>54.253090</td>\n",
       "      <td>4.467843</td>\n",
       "      <td>1.446568</td>\n",
       "      <td>1.528223</td>\n",
       "      <td>0.427363</td>\n",
       "      <td>32591.418387</td>\n",
       "    </tr>\n",
       "    <tr>\n",
       "      <th>min</th>\n",
       "      <td>0.000000</td>\n",
       "      <td>0.000000</td>\n",
       "      <td>0.000000</td>\n",
       "      <td>0.000000</td>\n",
       "      <td>0.000000</td>\n",
       "      <td>0.000000</td>\n",
       "      <td>0.000000</td>\n",
       "      <td>0.000000</td>\n",
       "      <td>0.000000</td>\n",
       "      <td>0.000000</td>\n",
       "      <td>...</td>\n",
       "      <td>0.000000</td>\n",
       "      <td>0.000000</td>\n",
       "      <td>0.000000</td>\n",
       "      <td>0.000000</td>\n",
       "      <td>0.000000</td>\n",
       "      <td>0.000000</td>\n",
       "      <td>0.000000</td>\n",
       "      <td>0.000000</td>\n",
       "      <td>0.000000</td>\n",
       "      <td>0.000000</td>\n",
       "    </tr>\n",
       "    <tr>\n",
       "      <th>25%</th>\n",
       "      <td>0.000000</td>\n",
       "      <td>0.000000</td>\n",
       "      <td>865.000000</td>\n",
       "      <td>2078.250000</td>\n",
       "      <td>17.000000</td>\n",
       "      <td>15.000000</td>\n",
       "      <td>0.000000</td>\n",
       "      <td>0.000000</td>\n",
       "      <td>0.000000</td>\n",
       "      <td>0.000000</td>\n",
       "      <td>...</td>\n",
       "      <td>0.000000</td>\n",
       "      <td>0.000000</td>\n",
       "      <td>0.000000</td>\n",
       "      <td>0.000000</td>\n",
       "      <td>0.000000</td>\n",
       "      <td>0.000000</td>\n",
       "      <td>0.000000</td>\n",
       "      <td>0.000000</td>\n",
       "      <td>0.000000</td>\n",
       "      <td>4638.000000</td>\n",
       "    </tr>\n",
       "    <tr>\n",
       "      <th>50%</th>\n",
       "      <td>518.000000</td>\n",
       "      <td>0.000000</td>\n",
       "      <td>3059.000000</td>\n",
       "      <td>5122.000000</td>\n",
       "      <td>121.000000</td>\n",
       "      <td>125.000000</td>\n",
       "      <td>0.000000</td>\n",
       "      <td>0.000000</td>\n",
       "      <td>1.000000</td>\n",
       "      <td>0.000000</td>\n",
       "      <td>...</td>\n",
       "      <td>0.000000</td>\n",
       "      <td>0.000000</td>\n",
       "      <td>0.000000</td>\n",
       "      <td>0.000000</td>\n",
       "      <td>0.000000</td>\n",
       "      <td>0.000000</td>\n",
       "      <td>0.000000</td>\n",
       "      <td>0.000000</td>\n",
       "      <td>0.000000</td>\n",
       "      <td>12399.000000</td>\n",
       "    </tr>\n",
       "    <tr>\n",
       "      <th>75%</th>\n",
       "      <td>4272.000000</td>\n",
       "      <td>0.000000</td>\n",
       "      <td>7280.000000</td>\n",
       "      <td>10380.750000</td>\n",
       "      <td>354.000000</td>\n",
       "      <td>301.000000</td>\n",
       "      <td>0.000000</td>\n",
       "      <td>5.000000</td>\n",
       "      <td>8.000000</td>\n",
       "      <td>0.000000</td>\n",
       "      <td>...</td>\n",
       "      <td>0.000000</td>\n",
       "      <td>0.000000</td>\n",
       "      <td>0.000000</td>\n",
       "      <td>2.000000</td>\n",
       "      <td>4.000000</td>\n",
       "      <td>0.000000</td>\n",
       "      <td>0.000000</td>\n",
       "      <td>0.000000</td>\n",
       "      <td>0.000000</td>\n",
       "      <td>25453.000000</td>\n",
       "    </tr>\n",
       "    <tr>\n",
       "      <th>max</th>\n",
       "      <td>522188.000000</td>\n",
       "      <td>116681.000000</td>\n",
       "      <td>107224.000000</td>\n",
       "      <td>108058.000000</td>\n",
       "      <td>77929.000000</td>\n",
       "      <td>38907.000000</td>\n",
       "      <td>28083.000000</td>\n",
       "      <td>164.000000</td>\n",
       "      <td>269.000000</td>\n",
       "      <td>49.000000</td>\n",
       "      <td>...</td>\n",
       "      <td>64.000000</td>\n",
       "      <td>12.000000</td>\n",
       "      <td>12.000000</td>\n",
       "      <td>1017.000000</td>\n",
       "      <td>777.000000</td>\n",
       "      <td>71.000000</td>\n",
       "      <td>28.000000</td>\n",
       "      <td>17.000000</td>\n",
       "      <td>4.000000</td>\n",
       "      <td>541978.000000</td>\n",
       "    </tr>\n",
       "  </tbody>\n",
       "</table>\n",
       "<p>8 rows × 25 columns</p>\n",
       "</div>"
      ],
      "text/plain": [
       "              permit  permit_recheck        handgun       long_gun  \\\n",
       "count   12461.000000     1100.000000   12465.000000   12466.000000   \n",
       "mean     6413.629404     1165.956364    5940.881107    7810.847585   \n",
       "std     23752.338269     9224.200609    8618.584060    9309.846140   \n",
       "min         0.000000        0.000000       0.000000       0.000000   \n",
       "25%         0.000000        0.000000     865.000000    2078.250000   \n",
       "50%       518.000000        0.000000    3059.000000    5122.000000   \n",
       "75%      4272.000000        0.000000    7280.000000   10380.750000   \n",
       "max    522188.000000   116681.000000  107224.000000  108058.000000   \n",
       "\n",
       "              other      multiple         admin  prepawn_handgun  \\\n",
       "count   5500.000000  12485.000000  12462.000000     10542.000000   \n",
       "mean     360.471636    268.603364     58.898090         4.828021   \n",
       "std     1349.478273    783.185073    604.814818        10.907756   \n",
       "min        0.000000      0.000000      0.000000         0.000000   \n",
       "25%       17.000000     15.000000      0.000000         0.000000   \n",
       "50%      121.000000    125.000000      0.000000         0.000000   \n",
       "75%      354.000000    301.000000      0.000000         5.000000   \n",
       "max    77929.000000  38907.000000  28083.000000       164.000000   \n",
       "\n",
       "       prepawn_long_gun  prepawn_other      ...        returned_other  \\\n",
       "count      10540.000000    5115.000000      ...           1815.000000   \n",
       "mean           7.834156       0.165591      ...              1.027548   \n",
       "std           16.468028       1.057105      ...              4.386296   \n",
       "min            0.000000       0.000000      ...              0.000000   \n",
       "25%            0.000000       0.000000      ...              0.000000   \n",
       "50%            1.000000       0.000000      ...              0.000000   \n",
       "75%            8.000000       0.000000      ...              0.000000   \n",
       "max          269.000000      49.000000      ...             64.000000   \n",
       "\n",
       "       rentals_handgun  rentals_long_gun  private_sale_handgun  \\\n",
       "count       990.000000        825.000000           2750.000000   \n",
       "mean          0.076768          0.087273             14.936000   \n",
       "std           0.634503          0.671649             71.216021   \n",
       "min           0.000000          0.000000              0.000000   \n",
       "25%           0.000000          0.000000              0.000000   \n",
       "50%           0.000000          0.000000              0.000000   \n",
       "75%           0.000000          0.000000              2.000000   \n",
       "max          12.000000         12.000000           1017.000000   \n",
       "\n",
       "       private_sale_long_gun  private_sale_other  return_to_seller_handgun  \\\n",
       "count            2750.000000         2750.000000               2475.000000   \n",
       "mean               11.602909            1.030182                  0.402020   \n",
       "std                54.253090            4.467843                  1.446568   \n",
       "min                 0.000000            0.000000                  0.000000   \n",
       "25%                 0.000000            0.000000                  0.000000   \n",
       "50%                 0.000000            0.000000                  0.000000   \n",
       "75%                 4.000000            0.000000                  0.000000   \n",
       "max               777.000000           71.000000                 28.000000   \n",
       "\n",
       "       return_to_seller_long_gun  return_to_seller_other         totals  \n",
       "count                2750.000000             2255.000000   12485.000000  \n",
       "mean                    0.441818                0.105987   21595.725911  \n",
       "std                     1.528223                0.427363   32591.418387  \n",
       "min                     0.000000                0.000000       0.000000  \n",
       "25%                     0.000000                0.000000    4638.000000  \n",
       "50%                     0.000000                0.000000   12399.000000  \n",
       "75%                     0.000000                0.000000   25453.000000  \n",
       "max                    17.000000                4.000000  541978.000000  \n",
       "\n",
       "[8 rows x 25 columns]"
      ]
     },
     "execution_count": 14,
     "metadata": {},
     "output_type": "execute_result"
    }
   ],
   "source": [
    "# display descriptive statstics for the gun dataset\n",
    "df_gun.describe()"
   ]
  },
  {
   "cell_type": "code",
   "execution_count": 15,
   "metadata": {},
   "outputs": [
    {
     "data": {
      "text/html": [
       "<div>\n",
       "<style scoped>\n",
       "    .dataframe tbody tr th:only-of-type {\n",
       "        vertical-align: middle;\n",
       "    }\n",
       "\n",
       "    .dataframe tbody tr th {\n",
       "        vertical-align: top;\n",
       "    }\n",
       "\n",
       "    .dataframe thead th {\n",
       "        text-align: right;\n",
       "    }\n",
       "</style>\n",
       "<table border=\"1\" class=\"dataframe\">\n",
       "  <thead>\n",
       "    <tr style=\"text-align: right;\">\n",
       "      <th></th>\n",
       "      <th>Fact</th>\n",
       "      <th>Fact Note</th>\n",
       "      <th>Alabama</th>\n",
       "      <th>Alaska</th>\n",
       "      <th>Arizona</th>\n",
       "      <th>Arkansas</th>\n",
       "      <th>California</th>\n",
       "      <th>Colorado</th>\n",
       "      <th>Connecticut</th>\n",
       "      <th>Delaware</th>\n",
       "      <th>...</th>\n",
       "      <th>South Dakota</th>\n",
       "      <th>Tennessee</th>\n",
       "      <th>Texas</th>\n",
       "      <th>Utah</th>\n",
       "      <th>Vermont</th>\n",
       "      <th>Virginia</th>\n",
       "      <th>Washington</th>\n",
       "      <th>West Virginia</th>\n",
       "      <th>Wisconsin</th>\n",
       "      <th>Wyoming</th>\n",
       "    </tr>\n",
       "  </thead>\n",
       "  <tbody>\n",
       "    <tr>\n",
       "      <th>count</th>\n",
       "      <td>80</td>\n",
       "      <td>28</td>\n",
       "      <td>65</td>\n",
       "      <td>65</td>\n",
       "      <td>65</td>\n",
       "      <td>65</td>\n",
       "      <td>65</td>\n",
       "      <td>65</td>\n",
       "      <td>65</td>\n",
       "      <td>65</td>\n",
       "      <td>...</td>\n",
       "      <td>65</td>\n",
       "      <td>65</td>\n",
       "      <td>65</td>\n",
       "      <td>65</td>\n",
       "      <td>65</td>\n",
       "      <td>65</td>\n",
       "      <td>65</td>\n",
       "      <td>65</td>\n",
       "      <td>65</td>\n",
       "      <td>65</td>\n",
       "    </tr>\n",
       "    <tr>\n",
       "      <th>unique</th>\n",
       "      <td>80</td>\n",
       "      <td>15</td>\n",
       "      <td>65</td>\n",
       "      <td>64</td>\n",
       "      <td>64</td>\n",
       "      <td>64</td>\n",
       "      <td>63</td>\n",
       "      <td>64</td>\n",
       "      <td>63</td>\n",
       "      <td>64</td>\n",
       "      <td>...</td>\n",
       "      <td>65</td>\n",
       "      <td>64</td>\n",
       "      <td>64</td>\n",
       "      <td>64</td>\n",
       "      <td>63</td>\n",
       "      <td>65</td>\n",
       "      <td>65</td>\n",
       "      <td>64</td>\n",
       "      <td>65</td>\n",
       "      <td>64</td>\n",
       "    </tr>\n",
       "    <tr>\n",
       "      <th>top</th>\n",
       "      <td>Persons under 18 years, percent, April 1, 2010</td>\n",
       "      <td>(c)</td>\n",
       "      <td>\"01\"</td>\n",
       "      <td>7.30%</td>\n",
       "      <td>50.30%</td>\n",
       "      <td>50.90%</td>\n",
       "      <td>50.30%</td>\n",
       "      <td>3.30%</td>\n",
       "      <td>0.10%</td>\n",
       "      <td>51.60%</td>\n",
       "      <td>...</td>\n",
       "      <td>0.103</td>\n",
       "      <td>0.048</td>\n",
       "      <td>50.40%</td>\n",
       "      <td>2.50%</td>\n",
       "      <td>1.90%</td>\n",
       "      <td>5.10%</td>\n",
       "      <td>12.30%</td>\n",
       "      <td>1.50%</td>\n",
       "      <td>$28,340</td>\n",
       "      <td>7.10%</td>\n",
       "    </tr>\n",
       "    <tr>\n",
       "      <th>freq</th>\n",
       "      <td>1</td>\n",
       "      <td>6</td>\n",
       "      <td>1</td>\n",
       "      <td>2</td>\n",
       "      <td>2</td>\n",
       "      <td>2</td>\n",
       "      <td>2</td>\n",
       "      <td>2</td>\n",
       "      <td>2</td>\n",
       "      <td>2</td>\n",
       "      <td>...</td>\n",
       "      <td>1</td>\n",
       "      <td>2</td>\n",
       "      <td>2</td>\n",
       "      <td>2</td>\n",
       "      <td>2</td>\n",
       "      <td>1</td>\n",
       "      <td>1</td>\n",
       "      <td>2</td>\n",
       "      <td>1</td>\n",
       "      <td>2</td>\n",
       "    </tr>\n",
       "  </tbody>\n",
       "</table>\n",
       "<p>4 rows × 52 columns</p>\n",
       "</div>"
      ],
      "text/plain": [
       "                                                  Fact Fact Note Alabama  \\\n",
       "count                                               80        28      65   \n",
       "unique                                              80        15      65   \n",
       "top     Persons under 18 years, percent, April 1, 2010       (c)    \"01\"   \n",
       "freq                                                 1         6       1   \n",
       "\n",
       "       Alaska Arizona Arkansas California Colorado Connecticut Delaware  \\\n",
       "count      65      65       65         65       65          65       65   \n",
       "unique     64      64       64         63       64          63       64   \n",
       "top     7.30%  50.30%   50.90%     50.30%    3.30%       0.10%   51.60%   \n",
       "freq        2       2        2          2        2           2        2   \n",
       "\n",
       "         ...   South Dakota Tennessee   Texas   Utah Vermont Virginia  \\\n",
       "count    ...             65        65      65     65      65       65   \n",
       "unique   ...             65        64      64     64      63       65   \n",
       "top      ...          0.103     0.048  50.40%  2.50%   1.90%    5.10%   \n",
       "freq     ...              1         2       2      2       2        1   \n",
       "\n",
       "       Washington West Virginia Wisconsin Wyoming  \n",
       "count          65            65        65      65  \n",
       "unique         65            64        65      64  \n",
       "top        12.30%         1.50%  $28,340    7.10%  \n",
       "freq            1             2         1       2  \n",
       "\n",
       "[4 rows x 52 columns]"
      ]
     },
     "execution_count": 15,
     "metadata": {},
     "output_type": "execute_result"
    }
   ],
   "source": [
    "# display descriptive statstics for the census dataset\n",
    "df_census.describe()"
   ]
  },
  {
   "cell_type": "markdown",
   "metadata": {},
   "source": [
    "## Data Cleaning"
   ]
  },
  {
   "cell_type": "markdown",
   "metadata": {},
   "source": [
    "#### use `cpoy` function to make a copy for each dataframe before making cleaning"
   ]
  },
  {
   "cell_type": "code",
   "execution_count": 16,
   "metadata": {},
   "outputs": [
    {
     "data": {
      "text/html": [
       "<div>\n",
       "<style scoped>\n",
       "    .dataframe tbody tr th:only-of-type {\n",
       "        vertical-align: middle;\n",
       "    }\n",
       "\n",
       "    .dataframe tbody tr th {\n",
       "        vertical-align: top;\n",
       "    }\n",
       "\n",
       "    .dataframe thead th {\n",
       "        text-align: right;\n",
       "    }\n",
       "</style>\n",
       "<table border=\"1\" class=\"dataframe\">\n",
       "  <thead>\n",
       "    <tr style=\"text-align: right;\">\n",
       "      <th></th>\n",
       "      <th>month</th>\n",
       "      <th>state</th>\n",
       "      <th>permit</th>\n",
       "      <th>permit_recheck</th>\n",
       "      <th>handgun</th>\n",
       "      <th>long_gun</th>\n",
       "      <th>other</th>\n",
       "      <th>multiple</th>\n",
       "      <th>admin</th>\n",
       "      <th>prepawn_handgun</th>\n",
       "      <th>...</th>\n",
       "      <th>returned_other</th>\n",
       "      <th>rentals_handgun</th>\n",
       "      <th>rentals_long_gun</th>\n",
       "      <th>private_sale_handgun</th>\n",
       "      <th>private_sale_long_gun</th>\n",
       "      <th>private_sale_other</th>\n",
       "      <th>return_to_seller_handgun</th>\n",
       "      <th>return_to_seller_long_gun</th>\n",
       "      <th>return_to_seller_other</th>\n",
       "      <th>totals</th>\n",
       "    </tr>\n",
       "  </thead>\n",
       "  <tbody>\n",
       "    <tr>\n",
       "      <th>0</th>\n",
       "      <td>2017-09</td>\n",
       "      <td>Alabama</td>\n",
       "      <td>16717.0</td>\n",
       "      <td>0.0</td>\n",
       "      <td>5734.0</td>\n",
       "      <td>6320.0</td>\n",
       "      <td>221.0</td>\n",
       "      <td>317</td>\n",
       "      <td>0.0</td>\n",
       "      <td>15.0</td>\n",
       "      <td>...</td>\n",
       "      <td>0.0</td>\n",
       "      <td>0.0</td>\n",
       "      <td>0.0</td>\n",
       "      <td>9.0</td>\n",
       "      <td>16.0</td>\n",
       "      <td>3.0</td>\n",
       "      <td>0.0</td>\n",
       "      <td>0.0</td>\n",
       "      <td>3.0</td>\n",
       "      <td>32019</td>\n",
       "    </tr>\n",
       "    <tr>\n",
       "      <th>1</th>\n",
       "      <td>2017-09</td>\n",
       "      <td>Alaska</td>\n",
       "      <td>209.0</td>\n",
       "      <td>2.0</td>\n",
       "      <td>2320.0</td>\n",
       "      <td>2930.0</td>\n",
       "      <td>219.0</td>\n",
       "      <td>160</td>\n",
       "      <td>0.0</td>\n",
       "      <td>5.0</td>\n",
       "      <td>...</td>\n",
       "      <td>0.0</td>\n",
       "      <td>0.0</td>\n",
       "      <td>0.0</td>\n",
       "      <td>17.0</td>\n",
       "      <td>24.0</td>\n",
       "      <td>1.0</td>\n",
       "      <td>0.0</td>\n",
       "      <td>0.0</td>\n",
       "      <td>0.0</td>\n",
       "      <td>6303</td>\n",
       "    </tr>\n",
       "    <tr>\n",
       "      <th>2</th>\n",
       "      <td>2017-09</td>\n",
       "      <td>Arizona</td>\n",
       "      <td>5069.0</td>\n",
       "      <td>382.0</td>\n",
       "      <td>11063.0</td>\n",
       "      <td>7946.0</td>\n",
       "      <td>920.0</td>\n",
       "      <td>631</td>\n",
       "      <td>0.0</td>\n",
       "      <td>13.0</td>\n",
       "      <td>...</td>\n",
       "      <td>0.0</td>\n",
       "      <td>0.0</td>\n",
       "      <td>0.0</td>\n",
       "      <td>38.0</td>\n",
       "      <td>12.0</td>\n",
       "      <td>2.0</td>\n",
       "      <td>0.0</td>\n",
       "      <td>0.0</td>\n",
       "      <td>0.0</td>\n",
       "      <td>28394</td>\n",
       "    </tr>\n",
       "    <tr>\n",
       "      <th>3</th>\n",
       "      <td>2017-09</td>\n",
       "      <td>Arkansas</td>\n",
       "      <td>2935.0</td>\n",
       "      <td>632.0</td>\n",
       "      <td>4347.0</td>\n",
       "      <td>6063.0</td>\n",
       "      <td>165.0</td>\n",
       "      <td>366</td>\n",
       "      <td>51.0</td>\n",
       "      <td>12.0</td>\n",
       "      <td>...</td>\n",
       "      <td>0.0</td>\n",
       "      <td>0.0</td>\n",
       "      <td>0.0</td>\n",
       "      <td>13.0</td>\n",
       "      <td>23.0</td>\n",
       "      <td>0.0</td>\n",
       "      <td>0.0</td>\n",
       "      <td>2.0</td>\n",
       "      <td>1.0</td>\n",
       "      <td>17747</td>\n",
       "    </tr>\n",
       "    <tr>\n",
       "      <th>4</th>\n",
       "      <td>2017-09</td>\n",
       "      <td>California</td>\n",
       "      <td>57839.0</td>\n",
       "      <td>0.0</td>\n",
       "      <td>37165.0</td>\n",
       "      <td>24581.0</td>\n",
       "      <td>2984.0</td>\n",
       "      <td>0</td>\n",
       "      <td>0.0</td>\n",
       "      <td>0.0</td>\n",
       "      <td>...</td>\n",
       "      <td>0.0</td>\n",
       "      <td>0.0</td>\n",
       "      <td>0.0</td>\n",
       "      <td>0.0</td>\n",
       "      <td>0.0</td>\n",
       "      <td>0.0</td>\n",
       "      <td>0.0</td>\n",
       "      <td>0.0</td>\n",
       "      <td>0.0</td>\n",
       "      <td>123506</td>\n",
       "    </tr>\n",
       "  </tbody>\n",
       "</table>\n",
       "<p>5 rows × 27 columns</p>\n",
       "</div>"
      ],
      "text/plain": [
       "     month       state   permit  permit_recheck  handgun  long_gun   other  \\\n",
       "0  2017-09     Alabama  16717.0             0.0   5734.0    6320.0   221.0   \n",
       "1  2017-09      Alaska    209.0             2.0   2320.0    2930.0   219.0   \n",
       "2  2017-09     Arizona   5069.0           382.0  11063.0    7946.0   920.0   \n",
       "3  2017-09    Arkansas   2935.0           632.0   4347.0    6063.0   165.0   \n",
       "4  2017-09  California  57839.0             0.0  37165.0   24581.0  2984.0   \n",
       "\n",
       "   multiple  admin  prepawn_handgun   ...    returned_other  rentals_handgun  \\\n",
       "0       317    0.0             15.0   ...               0.0              0.0   \n",
       "1       160    0.0              5.0   ...               0.0              0.0   \n",
       "2       631    0.0             13.0   ...               0.0              0.0   \n",
       "3       366   51.0             12.0   ...               0.0              0.0   \n",
       "4         0    0.0              0.0   ...               0.0              0.0   \n",
       "\n",
       "   rentals_long_gun  private_sale_handgun  private_sale_long_gun  \\\n",
       "0               0.0                   9.0                   16.0   \n",
       "1               0.0                  17.0                   24.0   \n",
       "2               0.0                  38.0                   12.0   \n",
       "3               0.0                  13.0                   23.0   \n",
       "4               0.0                   0.0                    0.0   \n",
       "\n",
       "   private_sale_other  return_to_seller_handgun  return_to_seller_long_gun  \\\n",
       "0                 3.0                       0.0                        0.0   \n",
       "1                 1.0                       0.0                        0.0   \n",
       "2                 2.0                       0.0                        0.0   \n",
       "3                 0.0                       0.0                        2.0   \n",
       "4                 0.0                       0.0                        0.0   \n",
       "\n",
       "   return_to_seller_other  totals  \n",
       "0                     3.0   32019  \n",
       "1                     0.0    6303  \n",
       "2                     0.0   28394  \n",
       "3                     1.0   17747  \n",
       "4                     0.0  123506  \n",
       "\n",
       "[5 rows x 27 columns]"
      ]
     },
     "execution_count": 16,
     "metadata": {},
     "output_type": "execute_result"
    }
   ],
   "source": [
    "# make a copy from gun dataset\n",
    "df_gun_clean=df_gun.copy()\n",
    "# confirm the copy\n",
    "df_gun_clean.head()"
   ]
  },
  {
   "cell_type": "code",
   "execution_count": 17,
   "metadata": {},
   "outputs": [
    {
     "data": {
      "text/html": [
       "<div>\n",
       "<style scoped>\n",
       "    .dataframe tbody tr th:only-of-type {\n",
       "        vertical-align: middle;\n",
       "    }\n",
       "\n",
       "    .dataframe tbody tr th {\n",
       "        vertical-align: top;\n",
       "    }\n",
       "\n",
       "    .dataframe thead th {\n",
       "        text-align: right;\n",
       "    }\n",
       "</style>\n",
       "<table border=\"1\" class=\"dataframe\">\n",
       "  <thead>\n",
       "    <tr style=\"text-align: right;\">\n",
       "      <th></th>\n",
       "      <th>Fact</th>\n",
       "      <th>Fact Note</th>\n",
       "      <th>Alabama</th>\n",
       "      <th>Alaska</th>\n",
       "      <th>Arizona</th>\n",
       "      <th>Arkansas</th>\n",
       "      <th>California</th>\n",
       "      <th>Colorado</th>\n",
       "      <th>Connecticut</th>\n",
       "      <th>Delaware</th>\n",
       "      <th>...</th>\n",
       "      <th>South Dakota</th>\n",
       "      <th>Tennessee</th>\n",
       "      <th>Texas</th>\n",
       "      <th>Utah</th>\n",
       "      <th>Vermont</th>\n",
       "      <th>Virginia</th>\n",
       "      <th>Washington</th>\n",
       "      <th>West Virginia</th>\n",
       "      <th>Wisconsin</th>\n",
       "      <th>Wyoming</th>\n",
       "    </tr>\n",
       "  </thead>\n",
       "  <tbody>\n",
       "    <tr>\n",
       "      <th>0</th>\n",
       "      <td>Population estimates, July 1, 2016,  (V2016)</td>\n",
       "      <td>NaN</td>\n",
       "      <td>4,863,300</td>\n",
       "      <td>741,894</td>\n",
       "      <td>6,931,071</td>\n",
       "      <td>2,988,248</td>\n",
       "      <td>39,250,017</td>\n",
       "      <td>5,540,545</td>\n",
       "      <td>3,576,452</td>\n",
       "      <td>952,065</td>\n",
       "      <td>...</td>\n",
       "      <td>865454</td>\n",
       "      <td>6651194</td>\n",
       "      <td>27,862,596</td>\n",
       "      <td>3,051,217</td>\n",
       "      <td>624,594</td>\n",
       "      <td>8,411,808</td>\n",
       "      <td>7,288,000</td>\n",
       "      <td>1,831,102</td>\n",
       "      <td>5,778,708</td>\n",
       "      <td>585,501</td>\n",
       "    </tr>\n",
       "    <tr>\n",
       "      <th>1</th>\n",
       "      <td>Population estimates base, April 1, 2010,  (V2...</td>\n",
       "      <td>NaN</td>\n",
       "      <td>4,780,131</td>\n",
       "      <td>710,249</td>\n",
       "      <td>6,392,301</td>\n",
       "      <td>2,916,025</td>\n",
       "      <td>37,254,522</td>\n",
       "      <td>5,029,324</td>\n",
       "      <td>3,574,114</td>\n",
       "      <td>897,936</td>\n",
       "      <td>...</td>\n",
       "      <td>814195</td>\n",
       "      <td>6346298</td>\n",
       "      <td>25,146,100</td>\n",
       "      <td>2,763,888</td>\n",
       "      <td>625,741</td>\n",
       "      <td>8,001,041</td>\n",
       "      <td>6,724,545</td>\n",
       "      <td>1,853,011</td>\n",
       "      <td>5,687,289</td>\n",
       "      <td>563,767</td>\n",
       "    </tr>\n",
       "    <tr>\n",
       "      <th>2</th>\n",
       "      <td>Population, percent change - April 1, 2010 (es...</td>\n",
       "      <td>NaN</td>\n",
       "      <td>1.70%</td>\n",
       "      <td>4.50%</td>\n",
       "      <td>8.40%</td>\n",
       "      <td>2.50%</td>\n",
       "      <td>5.40%</td>\n",
       "      <td>10.20%</td>\n",
       "      <td>0.10%</td>\n",
       "      <td>6.00%</td>\n",
       "      <td>...</td>\n",
       "      <td>0.063</td>\n",
       "      <td>0.048</td>\n",
       "      <td>10.80%</td>\n",
       "      <td>10.40%</td>\n",
       "      <td>-0.20%</td>\n",
       "      <td>5.10%</td>\n",
       "      <td>8.40%</td>\n",
       "      <td>-1.20%</td>\n",
       "      <td>1.60%</td>\n",
       "      <td>3.90%</td>\n",
       "    </tr>\n",
       "    <tr>\n",
       "      <th>3</th>\n",
       "      <td>Population, Census, April 1, 2010</td>\n",
       "      <td>NaN</td>\n",
       "      <td>4,779,736</td>\n",
       "      <td>710,231</td>\n",
       "      <td>6,392,017</td>\n",
       "      <td>2,915,918</td>\n",
       "      <td>37,253,956</td>\n",
       "      <td>5,029,196</td>\n",
       "      <td>3,574,097</td>\n",
       "      <td>897,934</td>\n",
       "      <td>...</td>\n",
       "      <td>814180</td>\n",
       "      <td>6346105</td>\n",
       "      <td>25,145,561</td>\n",
       "      <td>2,763,885</td>\n",
       "      <td>625,741</td>\n",
       "      <td>8,001,024</td>\n",
       "      <td>6,724,540</td>\n",
       "      <td>1,852,994</td>\n",
       "      <td>5,686,986</td>\n",
       "      <td>563,626</td>\n",
       "    </tr>\n",
       "    <tr>\n",
       "      <th>4</th>\n",
       "      <td>Persons under 5 years, percent, July 1, 2016, ...</td>\n",
       "      <td>NaN</td>\n",
       "      <td>6.00%</td>\n",
       "      <td>7.30%</td>\n",
       "      <td>6.30%</td>\n",
       "      <td>6.40%</td>\n",
       "      <td>6.30%</td>\n",
       "      <td>6.10%</td>\n",
       "      <td>5.20%</td>\n",
       "      <td>5.80%</td>\n",
       "      <td>...</td>\n",
       "      <td>0.071</td>\n",
       "      <td>0.061</td>\n",
       "      <td>7.20%</td>\n",
       "      <td>8.30%</td>\n",
       "      <td>4.90%</td>\n",
       "      <td>6.10%</td>\n",
       "      <td>6.20%</td>\n",
       "      <td>5.50%</td>\n",
       "      <td>5.80%</td>\n",
       "      <td>6.50%</td>\n",
       "    </tr>\n",
       "  </tbody>\n",
       "</table>\n",
       "<p>5 rows × 52 columns</p>\n",
       "</div>"
      ],
      "text/plain": [
       "                                                Fact Fact Note    Alabama  \\\n",
       "0       Population estimates, July 1, 2016,  (V2016)       NaN  4,863,300   \n",
       "1  Population estimates base, April 1, 2010,  (V2...       NaN  4,780,131   \n",
       "2  Population, percent change - April 1, 2010 (es...       NaN      1.70%   \n",
       "3                  Population, Census, April 1, 2010       NaN  4,779,736   \n",
       "4  Persons under 5 years, percent, July 1, 2016, ...       NaN      6.00%   \n",
       "\n",
       "    Alaska    Arizona   Arkansas  California   Colorado Connecticut Delaware  \\\n",
       "0  741,894  6,931,071  2,988,248  39,250,017  5,540,545   3,576,452  952,065   \n",
       "1  710,249  6,392,301  2,916,025  37,254,522  5,029,324   3,574,114  897,936   \n",
       "2    4.50%      8.40%      2.50%       5.40%     10.20%       0.10%    6.00%   \n",
       "3  710,231  6,392,017  2,915,918  37,253,956  5,029,196   3,574,097  897,934   \n",
       "4    7.30%      6.30%      6.40%       6.30%      6.10%       5.20%    5.80%   \n",
       "\n",
       "    ...    South Dakota Tennessee       Texas       Utah  Vermont   Virginia  \\\n",
       "0   ...          865454   6651194  27,862,596  3,051,217  624,594  8,411,808   \n",
       "1   ...          814195   6346298  25,146,100  2,763,888  625,741  8,001,041   \n",
       "2   ...           0.063     0.048      10.80%     10.40%   -0.20%      5.10%   \n",
       "3   ...          814180   6346105  25,145,561  2,763,885  625,741  8,001,024   \n",
       "4   ...           0.071     0.061       7.20%      8.30%    4.90%      6.10%   \n",
       "\n",
       "  Washington West Virginia  Wisconsin  Wyoming  \n",
       "0  7,288,000     1,831,102  5,778,708  585,501  \n",
       "1  6,724,545     1,853,011  5,687,289  563,767  \n",
       "2      8.40%        -1.20%      1.60%    3.90%  \n",
       "3  6,724,540     1,852,994  5,686,986  563,626  \n",
       "4      6.20%         5.50%      5.80%    6.50%  \n",
       "\n",
       "[5 rows x 52 columns]"
      ]
     },
     "execution_count": 17,
     "metadata": {},
     "output_type": "execute_result"
    }
   ],
   "source": [
    "# make a copy from census dataset\n",
    "df_census_clean=df_census.copy()\n",
    "# confirm the copy\n",
    "df_census_clean.head()"
   ]
  },
  {
   "cell_type": "markdown",
   "metadata": {},
   "source": [
    "#### Drop Duplicates from the census dataset"
   ]
  },
  {
   "cell_type": "code",
   "execution_count": 18,
   "metadata": {},
   "outputs": [
    {
     "data": {
      "text/plain": [
       "0"
      ]
     },
     "execution_count": 18,
     "metadata": {},
     "output_type": "execute_result"
    }
   ],
   "source": [
    "# drop duplicates\n",
    "df_census_clean.drop_duplicates(inplace=True)\n",
    "\n",
    "# confirm changes\n",
    "df_census_clean.duplicated().sum()"
   ]
  },
  {
   "cell_type": "markdown",
   "metadata": {},
   "source": [
    "#### use ` rename` function to change columns name to lowercase and replace space with underscore in the census dataset"
   ]
  },
  {
   "cell_type": "code",
   "execution_count": 19,
   "metadata": {},
   "outputs": [
    {
     "data": {
      "text/plain": [
       "Index(['fact', 'fact_note', 'alabama', 'alaska', 'arizona', 'arkansas',\n",
       "       'california', 'colorado', 'connecticut', 'delaware', 'florida',\n",
       "       'georgia', 'hawaii', 'idaho', 'illinois', 'indiana', 'iowa', 'kansas',\n",
       "       'kentucky', 'louisiana', 'maine', 'maryland', 'massachusetts',\n",
       "       'michigan', 'minnesota', 'mississippi', 'missouri', 'montana',\n",
       "       'nebraska', 'nevada', 'new_hampshire', 'new_jersey', 'new_mexico',\n",
       "       'new_york', 'north_carolina', 'north_dakota', 'ohio', 'oklahoma',\n",
       "       'oregon', 'pennsylvania', 'rhode_island', 'south_carolina',\n",
       "       'south_dakota', 'tennessee', 'texas', 'utah', 'vermont', 'virginia',\n",
       "       'washington', 'west_virginia', 'wisconsin', 'wyoming'],\n",
       "      dtype='object')"
      ]
     },
     "execution_count": 19,
     "metadata": {},
     "output_type": "execute_result"
    }
   ],
   "source": [
    "# rename columns in the census dataset\n",
    "df_census_clean.rename(columns= lambda x:x.lower().replace(\" \",\"_\"),inplace=True)\n",
    "\n",
    "# confirm changes\n",
    "df_census_clean.columns"
   ]
  },
  {
   "cell_type": "markdown",
   "metadata": {},
   "source": [
    "#### Cleaning NaN Values"
   ]
  },
  {
   "cell_type": "code",
   "execution_count": 20,
   "metadata": {},
   "outputs": [
    {
     "name": "stdout",
     "output_type": "stream",
     "text": [
      "<class 'pandas.core.frame.DataFrame'>\n",
      "Int64Index: 82 entries, 0 to 84\n",
      "Data columns (total 52 columns):\n",
      "fact              80 non-null object\n",
      "fact_note         28 non-null object\n",
      "alabama           65 non-null float64\n",
      "alaska            64 non-null float64\n",
      "arizona           65 non-null float64\n",
      "arkansas          65 non-null float64\n",
      "california        65 non-null float64\n",
      "colorado          65 non-null float64\n",
      "connecticut       65 non-null float64\n",
      "delaware          65 non-null float64\n",
      "florida           65 non-null float64\n",
      "georgia           65 non-null float64\n",
      "hawaii            64 non-null float64\n",
      "idaho             65 non-null float64\n",
      "illinois          65 non-null float64\n",
      "indiana           65 non-null float64\n",
      "iowa              65 non-null float64\n",
      "kansas            65 non-null float64\n",
      "kentucky          65 non-null float64\n",
      "louisiana         65 non-null float64\n",
      "maine             64 non-null float64\n",
      "maryland          65 non-null float64\n",
      "massachusetts     65 non-null float64\n",
      "michigan          64 non-null float64\n",
      "minnesota         65 non-null float64\n",
      "mississippi       65 non-null float64\n",
      "missouri          65 non-null float64\n",
      "montana           65 non-null float64\n",
      "nebraska          65 non-null float64\n",
      "nevada            65 non-null float64\n",
      "new_hampshire     65 non-null float64\n",
      "new_jersey        65 non-null float64\n",
      "new_mexico        65 non-null float64\n",
      "new_york          65 non-null float64\n",
      "north_carolina    65 non-null float64\n",
      "north_dakota      65 non-null float64\n",
      "ohio              65 non-null float64\n",
      "oklahoma          65 non-null float64\n",
      "oregon            65 non-null float64\n",
      "pennsylvania      65 non-null float64\n",
      "rhode_island      65 non-null float64\n",
      "south_carolina    65 non-null float64\n",
      "south_dakota      65 non-null float64\n",
      "tennessee         65 non-null float64\n",
      "texas             65 non-null float64\n",
      "utah              65 non-null float64\n",
      "vermont           64 non-null float64\n",
      "virginia          65 non-null float64\n",
      "washington        65 non-null float64\n",
      "west_virginia     64 non-null float64\n",
      "wisconsin         65 non-null float64\n",
      "wyoming           64 non-null float64\n",
      "dtypes: float64(50), object(2)\n",
      "memory usage: 34.0+ KB\n"
     ]
    }
   ],
   "source": [
    "# convert columns Datatypes in the census dataset from String to Numerical(Float)\n",
    "# convert all columns except the first 2 columns\n",
    "cols=df_census_clean.iloc[:,2:].columns\n",
    "for col in cols:\n",
    "    df_census_clean[col]=df_census_clean[col].str.extract('(\\d+)').astype(float)\n",
    "    \n",
    "#confirm changes\n",
    "df_census_clean.info()"
   ]
  },
  {
   "cell_type": "code",
   "execution_count": 21,
   "metadata": {},
   "outputs": [
    {
     "data": {
      "text/plain": [
       "(False, 0)"
      ]
     },
     "execution_count": 21,
     "metadata": {},
     "output_type": "execute_result"
    }
   ],
   "source": [
    "# replace NaN values with 'No record' in the census dataset because the numerical type of NaN values \n",
    "# as each row has specific meaning, thus we can't fill them with mean\n",
    "df_census_clean.fillna('No record',inplace=True)\n",
    "\n",
    "#confirm changes\n",
    "df_census_clean.isnull().any().any() , df_census_clean.isnull().sum().sum()"
   ]
  },
  {
   "cell_type": "code",
   "execution_count": 22,
   "metadata": {},
   "outputs": [
    {
     "data": {
      "text/plain": [
       "(False, 0)"
      ]
     },
     "execution_count": 22,
     "metadata": {},
     "output_type": "execute_result"
    }
   ],
   "source": [
    "# replace NaN values with mean value for each column in the gun dataset\n",
    "cols=df_gun_clean.iloc[:,np.r_[2:7,8:26]].columns\n",
    "for col in cols:\n",
    "    col_mean=df_gun_clean[col].mean()\n",
    "    df_gun_clean[col].fillna(col_mean,inplace=True)\n",
    "    \n",
    "# confirm changes\n",
    "df_gun_clean.isnull().any().any() , df_gun_clean.isnull().sum().sum()"
   ]
  },
  {
   "cell_type": "markdown",
   "metadata": {},
   "source": [
    "### convert `month` column from String to Datetime"
   ]
  },
  {
   "cell_type": "code",
   "execution_count": 23,
   "metadata": {},
   "outputs": [
    {
     "name": "stdout",
     "output_type": "stream",
     "text": [
      "<class 'pandas.core.frame.DataFrame'>\n",
      "RangeIndex: 12485 entries, 0 to 12484\n",
      "Data columns (total 27 columns):\n",
      "month                        12485 non-null datetime64[ns]\n",
      "state                        12485 non-null object\n",
      "permit                       12485 non-null float64\n",
      "permit_recheck               12485 non-null float64\n",
      "handgun                      12485 non-null float64\n",
      "long_gun                     12485 non-null float64\n",
      "other                        12485 non-null float64\n",
      "multiple                     12485 non-null int64\n",
      "admin                        12485 non-null float64\n",
      "prepawn_handgun              12485 non-null float64\n",
      "prepawn_long_gun             12485 non-null float64\n",
      "prepawn_other                12485 non-null float64\n",
      "redemption_handgun           12485 non-null float64\n",
      "redemption_long_gun          12485 non-null float64\n",
      "redemption_other             12485 non-null float64\n",
      "returned_handgun             12485 non-null float64\n",
      "returned_long_gun            12485 non-null float64\n",
      "returned_other               12485 non-null float64\n",
      "rentals_handgun              12485 non-null float64\n",
      "rentals_long_gun             12485 non-null float64\n",
      "private_sale_handgun         12485 non-null float64\n",
      "private_sale_long_gun        12485 non-null float64\n",
      "private_sale_other           12485 non-null float64\n",
      "return_to_seller_handgun     12485 non-null float64\n",
      "return_to_seller_long_gun    12485 non-null float64\n",
      "return_to_seller_other       12485 non-null float64\n",
      "totals                       12485 non-null int64\n",
      "dtypes: datetime64[ns](1), float64(23), int64(2), object(1)\n",
      "memory usage: 2.6+ MB\n"
     ]
    }
   ],
   "source": [
    "#convert month column in the gun dataset from String to Datetime\n",
    "df_gun_clean.month=pd.to_datetime(df_gun_clean.month)\n",
    "\n",
    "#confirm changes\n",
    "df_gun_clean.info()"
   ]
  },
  {
   "cell_type": "markdown",
   "metadata": {},
   "source": [
    "<a id='eda'></a>\n",
    "## Exploratory Data Analysis\n",
    "\n",
    "> Now that I've trimmed and cleaned the data, I'M ready to move on to exploration. Compute statistics and create visualizations with the goal of addressing the research questions that you posed in the Introduction section."
   ]
  },
  {
   "cell_type": "markdown",
   "metadata": {},
   "source": [
    "### Research Question 1 : What is the average revenue of firms of all the states in 2012?"
   ]
  },
  {
   "cell_type": "code",
   "execution_count": 24,
   "metadata": {},
   "outputs": [
    {
     "data": {
      "text/plain": [
       "133749.26"
      ]
     },
     "execution_count": 24,
     "metadata": {},
     "output_type": "execute_result"
    }
   ],
   "source": [
    "# average revenue of all firms of all the states in 2012\n",
    "all_firms_2012=df_census_clean.query('fact == \"All firms, 2012\"')\n",
    "all_firms_mean= all_firms_2012.iloc[:,2:].mean().mean()\n",
    "all_firms_mean"
   ]
  },
  {
   "cell_type": "markdown",
   "metadata": {},
   "source": [
    " >The average revenue of All firms of all the states in 2012 is around 133749.26 dollor."
   ]
  },
  {
   "cell_type": "markdown",
   "metadata": {},
   "source": [
    "### Research Question 2 : What is the average revenue of men-owned and women-owned firms of all the states in 2012?which bigger and how much ?"
   ]
  },
  {
   "cell_type": "code",
   "execution_count": 25,
   "metadata": {},
   "outputs": [
    {
     "data": {
      "text/plain": [
       "74440.58"
      ]
     },
     "execution_count": 25,
     "metadata": {},
     "output_type": "execute_result"
    }
   ],
   "source": [
    "# average revenue of men-owned firms of all the states in 2012\n",
    "men_firms_2012=df_census_clean.query('fact == \"Men-owned firms, 2012\"')\n",
    "men_mean= men_firms_2012.iloc[:,2:].mean().mean()\n",
    "men_mean"
   ]
  },
  {
   "cell_type": "markdown",
   "metadata": {},
   "source": [
    " >The average revenue of Men-owned firms of all the states in 2012 is around 74440.58 dollar."
   ]
  },
  {
   "cell_type": "code",
   "execution_count": 26,
   "metadata": {},
   "outputs": [
    {
     "data": {
      "text/plain": [
       "46398.02"
      ]
     },
     "execution_count": 26,
     "metadata": {},
     "output_type": "execute_result"
    }
   ],
   "source": [
    "# average revenue of women-owned firms of all the states in 2012\n",
    "women_firms_2012=df_census_clean.query('fact == \"Women-owned firms, 2012\"')\n",
    "women_mean= women_firms_2012.iloc[:,2:].mean().mean()\n",
    "women_mean"
   ]
  },
  {
   "cell_type": "markdown",
   "metadata": {},
   "source": [
    ">The average revenue of Women-owned firms of all the states in 2012 is around 46398.02 dollar."
   ]
  },
  {
   "cell_type": "code",
   "execution_count": 27,
   "metadata": {},
   "outputs": [
    {
     "data": {
      "text/plain": [
       "28042.560000000005"
      ]
     },
     "execution_count": 27,
     "metadata": {},
     "output_type": "execute_result"
    }
   ],
   "source": [
    "# difference between average revenue of Men-owned and Women-owned firms\n",
    "mean_diff=men_mean - women_mean\n",
    "mean_diff"
   ]
  },
  {
   "cell_type": "markdown",
   "metadata": {},
   "source": [
    ">The average revenue of Men-owned firms is greater than Women-owned firms of all the states in 2012 by around 28042.56 dollar."
   ]
  },
  {
   "cell_type": "markdown",
   "metadata": {},
   "source": [
    "### Research Question 3 : Which states have had the highest growth in gun registrations?"
   ]
  },
  {
   "cell_type": "markdown",
   "metadata": {},
   "source": [
    "#### use `groupby` function to get `totals` in each state and each month"
   ]
  },
  {
   "cell_type": "code",
   "execution_count": 28,
   "metadata": {},
   "outputs": [],
   "source": [
    "df_gun_total=df_gun_clean.groupby(['month','state'])['totals'].sum()"
   ]
  },
  {
   "cell_type": "code",
   "execution_count": 29,
   "metadata": {},
   "outputs": [],
   "source": [
    "# get the latest and earliest date\n",
    "latest_date=df_gun_clean.month.max()\n",
    "early_date=df_gun_clean.month.min()"
   ]
  },
  {
   "cell_type": "code",
   "execution_count": 30,
   "metadata": {},
   "outputs": [
    {
     "data": {
      "text/plain": [
       "'Kentucky'"
      ]
     },
     "execution_count": 30,
     "metadata": {},
     "output_type": "execute_result"
    }
   ],
   "source": [
    "# find growth amount for each state\n",
    "df_gun_grow = df_gun_total.loc[latest_date] - df_gun_total.loc[early_date]\n",
    "\n",
    "# find highest growth state\n",
    "df_gun_grow.idxmax()"
   ]
  },
  {
   "cell_type": "code",
   "execution_count": 31,
   "metadata": {},
   "outputs": [
    {
     "data": {
      "text/plain": [
       "397866"
      ]
     },
     "execution_count": 31,
     "metadata": {},
     "output_type": "execute_result"
    }
   ],
   "source": [
    "# find highest growth amount\n",
    "df_gun_grow.max()"
   ]
  },
  {
   "cell_type": "markdown",
   "metadata": {},
   "source": [
    "> 'kentucky' state has the highest growth amount in gun registrations , and total registed number of guns is 397866"
   ]
  },
  {
   "cell_type": "markdown",
   "metadata": {},
   "source": [
    "### Research Question 4 : What is the overall trend of gun purchases?"
   ]
  },
  {
   "cell_type": "markdown",
   "metadata": {},
   "source": [
    "#### use `groupby` function to get summation of `totals` each month"
   ]
  },
  {
   "cell_type": "code",
   "execution_count": 32,
   "metadata": {},
   "outputs": [],
   "source": [
    "# get summation of 'total' for each month\n",
    "df_gun_trend=df_gun_clean.groupby('month').totals.sum()"
   ]
  },
  {
   "cell_type": "code",
   "execution_count": 136,
   "metadata": {},
   "outputs": [
    {
     "data": {
      "text/plain": [
       "<matplotlib.axes._subplots.AxesSubplot at 0x21de5d0e518>"
      ]
     },
     "execution_count": 136,
     "metadata": {},
     "output_type": "execute_result"
    },
    {
     "data": {
      "image/png": "[encoded data removed]",
      "text/plain": [
       "<Figure size 720x1080 with 1 Axes>"
      ]
     },
     "metadata": {},
     "output_type": "display_data"
    }
   ],
   "source": [
    "# figure out the overall trend\n",
    "df_gun_trend.plot(figsize=(10,15))"
   ]
  },
  {
   "cell_type": "markdown",
   "metadata": {},
   "source": [
    "> the overall trend of gun purchases is increasing."
   ]
  },
  {
   "cell_type": "markdown",
   "metadata": {},
   "source": [
    "### Research Question 5 : How many guns were registered in total in April, 2006?"
   ]
  },
  {
   "cell_type": "code",
   "execution_count": 36,
   "metadata": {},
   "outputs": [
    {
     "data": {
      "text/plain": [
       "(693232, 622547)"
      ]
     },
     "execution_count": 36,
     "metadata": {},
     "output_type": "execute_result"
    }
   ],
   "source": [
    "# get totals of april\n",
    "total_gun_april=df_gun_clean.query('month == \"2006-04-01\"')\n",
    "# find summation of totals of april\n",
    "sum_gun_april=total_gun_april.groupby('month').totals.sum().tolist()[0]\n",
    "\n",
    "# get totals of april\n",
    "total_gun_may=df_gun_clean.query('month == \"2006-05-01\"')\n",
    "# find summation of totals of april\n",
    "sum_gun_may=total_gun_may.groupby('month').totals.sum().tolist()[0]\n",
    "sum_gun_april , sum_gun_may"
   ]
  },
  {
   "cell_type": "code",
   "execution_count": 37,
   "metadata": {},
   "outputs": [
    {
     "data": {
      "text/plain": [
       "70685"
      ]
     },
     "execution_count": 37,
     "metadata": {},
     "output_type": "execute_result"
    }
   ],
   "source": [
    "# find total registed guns in in April, 2006\n",
    "registed_gun_april = sum_gun_april - sum_gun_may\n",
    "registed_gun_april"
   ]
  },
  {
   "cell_type": "markdown",
   "metadata": {},
   "source": [
    "> the total  registed guns in in April, 2006 were 70685 pieces"
   ]
  },
  {
   "cell_type": "markdown",
   "metadata": {},
   "source": [
    "### Research Question 6 : What type of gun has highest quantity, and the relationship to totals?"
   ]
  },
  {
   "cell_type": "code",
   "execution_count": 38,
   "metadata": {},
   "outputs": [
    {
     "data": {
      "text/plain": [
       "'long_gun'"
      ]
     },
     "execution_count": 38,
     "metadata": {},
     "output_type": "execute_result"
    }
   ],
   "source": [
    "# find highest quantity type of gun\n",
    "gun_type={}\n",
    "cols=df_gun_clean.columns[2:25]\n",
    "for col in cols:\n",
    "    gun_type[col]=df_gun_clean[col].sum()\n",
    "    \n",
    "max(gun_type , key=gun_type.get)"
   ]
  },
  {
   "cell_type": "code",
   "execution_count": 39,
   "metadata": {},
   "outputs": [],
   "source": [
    "month_data = df_gun_clean.month.dt.strftime(\"%B\")\n",
    "\n",
    "df_test = df_gun_clean.copy()\n",
    "\n",
    "df_test['registed_month']= month_data"
   ]
  },
  {
   "cell_type": "markdown",
   "metadata": {},
   "source": [
    "#### import `calendar` package to order months"
   ]
  },
  {
   "cell_type": "code",
   "execution_count": 52,
   "metadata": {},
   "outputs": [
    {
     "name": "stdout",
     "output_type": "stream",
     "text": [
      "['January', 'February', 'March', 'April', 'May', 'June', 'July', 'August', 'September', 'October', 'November', 'December']\n"
     ]
    }
   ],
   "source": [
    "import calendar\n",
    "#get list of months in order\n",
    "month_order=[mon for mon in calendar.month_name][1:]\n",
    "print(month_order)"
   ]
  },
  {
   "cell_type": "markdown",
   "metadata": {},
   "source": [
    "### Plot the relation between highest quantity type of gun and totals"
   ]
  },
  {
   "cell_type": "code",
   "execution_count": 114,
   "metadata": {},
   "outputs": [
    {
     "data": {
      "image/png": "[encoded data removed]",
      "text/plain": [
       "<Figure size 1440x720 with 1 Axes>"
      ]
     },
     "metadata": {},
     "output_type": "display_data"
    }
   ],
   "source": [
    "# set fontsize\n",
    "sns.set(font_scale = 1.5)\n",
    "# figure out the relation between highest quantity type of gun and totals\n",
    "gun_total_fig=sns.lmplot(x='long_gun',y='totals',hue='registed_month',data=df_test,aspect=12/9,hue_order=month_order,palette='YlGnBu')\n",
    "# set plot dimensions\n",
    "gun_total_fig.fig.set_size_inches(20,10)\n",
    "# set plot title and size\n",
    "gun_total_fig.fig.suptitle(\"The Relation between highest quantity type of gun and totals\",fontsize=22)\n",
    "sns.set()"
   ]
  },
  {
   "cell_type": "markdown",
   "metadata": {},
   "source": [
    "### Research Question 7 : What is the sum of registered gun in each state over time?Which state highest?And how many?"
   ]
  },
  {
   "cell_type": "markdown",
   "metadata": {},
   "source": [
    "#### use `groupby` function to get summation of `totals` for each `state`"
   ]
  },
  {
   "cell_type": "code",
   "execution_count": 41,
   "metadata": {},
   "outputs": [
    {
     "data": {
      "text/plain": [
       "state\n",
       "Alabama                  6706079\n",
       "Alaska                   1137643\n",
       "Arizona                  4425714\n",
       "Arkansas                 3752633\n",
       "California              19014063\n",
       "Colorado                 6058482\n",
       "Connecticut              3168126\n",
       "Delaware                  491369\n",
       "District of Columbia        5601\n",
       "Florida                 11695777\n",
       "Georgia                  7209942\n",
       "Guam                       14997\n",
       "Hawaii                    197580\n",
       "Idaho                    1968134\n",
       "Illinois                15471534\n",
       "Indiana                  7737172\n",
       "Iowa                     2297156\n",
       "Kansas                   2624669\n",
       "Kentucky                29762434\n",
       "Louisiana                4705057\n",
       "Maine                    1257457\n",
       "Mariana Islands              462\n",
       "Maryland                 2035652\n",
       "Massachusetts            2571321\n",
       "Michigan                 7254279\n",
       "Minnesota                6279271\n",
       "Mississippi              3576312\n",
       "Missouri                 6549018\n",
       "Montana                  1884124\n",
       "Nebraska                 1136209\n",
       "Nevada                   1731797\n",
       "New Hampshire            1583148\n",
       "New Jersey               1145846\n",
       "New Mexico               2076591\n",
       "New York                 4643828\n",
       "North Carolina           7777689\n",
       "North Dakota              947440\n",
       "Ohio                     8462744\n",
       "Oklahoma                 4584454\n",
       "Oregon                   3751061\n",
       "Pennsylvania            13133876\n",
       "Puerto Rico               194464\n",
       "Rhode Island              288870\n",
       "South Carolina           4014432\n",
       "South Dakota             1215712\n",
       "Tennessee                7311293\n",
       "Texas                   19435186\n",
       "Utah                     4338273\n",
       "Vermont                   484447\n",
       "Virgin Islands             15108\n",
       "Virginia                 5878675\n",
       "Washington               6384517\n",
       "West Virginia            3208889\n",
       "Wisconsin                5131725\n",
       "Wyoming                   894306\n",
       "Name: totals, dtype: int64"
      ]
     },
     "execution_count": 41,
     "metadata": {},
     "output_type": "execute_result"
    }
   ],
   "source": [
    "# sum of 'totals' for each 'state'\n",
    "total_state_gun=df_gun_clean.groupby('state').totals.sum()\n",
    "total_state_gun"
   ]
  },
  {
   "cell_type": "code",
   "execution_count": 42,
   "metadata": {},
   "outputs": [
    {
     "data": {
      "text/plain": [
       "'Kentucky'"
      ]
     },
     "execution_count": 42,
     "metadata": {},
     "output_type": "execute_result"
    }
   ],
   "source": [
    "# find highest registered gun state\n",
    "total_state_gun.idxmax()"
   ]
  },
  {
   "cell_type": "code",
   "execution_count": 43,
   "metadata": {},
   "outputs": [
    {
     "data": {
      "text/plain": [
       "29762434"
      ]
     },
     "execution_count": 43,
     "metadata": {},
     "output_type": "execute_result"
    }
   ],
   "source": [
    "# find amount of highest registered gun state\n",
    "total_state_gun.max()"
   ]
  },
  {
   "cell_type": "markdown",
   "metadata": {},
   "source": [
    "> 'kentucky' state has the highest amount in gun registrations , and total registed number of guns is 29762434 pieces"
   ]
  },
  {
   "cell_type": "markdown",
   "metadata": {},
   "source": [
    "#### Define `makebar` function to make a bar plot"
   ]
  },
  {
   "cell_type": "code",
   "execution_count": 133,
   "metadata": {},
   "outputs": [],
   "source": [
    "def makebar(df,xVar):\n",
    "    \"\"\"\n",
    "    paramters : df is the dataframe is use in  the plot to get a distributions or relationships\n",
    "                xVar is the distribution or relationship\n",
    "    steps:      - specify the dataframe and kind of plot and some properties\n",
    "                - add title to the plot and format it\n",
    "                - add x label to the plot and format it\n",
    "                - add y label to the plot and format it\n",
    "                \n",
    "    output:     draw a horizontal bar for a specific dataframe and relationship\n",
    "    \"\"\"\n",
    "    # draw horizontal bar\n",
    "    df.plot(kind='barh',figsize=(10,15),width=0.7,edgecolor=\"black\")\n",
    "    # add title and format it\n",
    "    plt.title(f\"Distribution of {xVar}\".title(),fontsize=16,weight=\"bold\")\n",
    "    #add x label and format it\n",
    "    plt.xlabel(xVar.title(),fontsize=12,weight=\"bold\")\n",
    "    #add x label and format it\n",
    "    plt.ylabel('State'.title(),fontsize=12,weight=\"bold\")"
   ]
  },
  {
   "cell_type": "markdown",
   "metadata": {},
   "source": [
    "### Plot Total guns for each state "
   ]
  },
  {
   "cell_type": "code",
   "execution_count": 134,
   "metadata": {},
   "outputs": [
    {
     "data": {
      "image/png": "[encoded data removed]",
      "text/plain": [
       "<Figure size 720x1080 with 1 Axes>"
      ]
     },
     "metadata": {},
     "output_type": "display_data"
    }
   ],
   "source": [
    "makebar(total_state_gun,\"Total Guns By State\")"
   ]
  },
  {
   "cell_type": "markdown",
   "metadata": {},
   "source": [
    "> 'kentucky' state has the highest amount in gun registrations."
   ]
  },
  {
   "cell_type": "markdown",
   "metadata": {},
   "source": [
    "### Plot growth in gun registrations for each state"
   ]
  },
  {
   "cell_type": "code",
   "execution_count": 135,
   "metadata": {},
   "outputs": [
    {
     "data": {
      "image/png": "[encoded data removed]",
      "text/plain": [
       "<Figure size 720x1080 with 1 Axes>"
      ]
     },
     "metadata": {},
     "output_type": "display_data"
    }
   ],
   "source": [
    "makebar(df_gun_grow,\"Total Guns Registrations Growth By State\")"
   ]
  },
  {
   "cell_type": "markdown",
   "metadata": {},
   "source": [
    "> 'kentucky' state has the highest growth amount in gun registrations "
   ]
  },
  {
   "cell_type": "markdown",
   "metadata": {},
   "source": [
    "### Plot the average revenue of firms of all the states in 2012"
   ]
  },
  {
   "cell_type": "code",
   "execution_count": 138,
   "metadata": {},
   "outputs": [
    {
     "data": {
      "image/png": "[encoded data removed]",
      "text/plain": [
       "<Figure size 720x1080 with 1 Axes>"
      ]
     },
     "metadata": {},
     "output_type": "display_data"
    }
   ],
   "source": [
    "# set figure size\n",
    "plt.figure(figsize=(10,15))\n",
    "# specify the x-coordinates of the bars, the heights of the bars and the x tick labels\n",
    "plt.bar([1, 2, 3], [all_firms_mean, men_mean, women_mean], tick_label=['all', 'men', 'women'])\n",
    "# add title and format it\n",
    "plt.title('average revenue of firms of all the states in 2012',fontsize=18)\n",
    "# add x label and format it\n",
    "plt.xlabel('Type',fontsize=16)\n",
    "# add y label and format it\n",
    "plt.ylabel('Amount',fontsize=16);"
   ]
  },
  {
   "cell_type": "markdown",
   "metadata": {},
   "source": [
    "<a id='conclusions'></a>\n",
    "## Conclusions\n",
    "\n",
    "> The dataset included 2 tables, but they have to be loaded by different measures. The data was ranging from 1998 to 2017, which consisted of detailed information of registered gun. Based on such substantial data, the analysis would be more reliable as opposed to small scale analysis."
   ]
  },
  {
   "cell_type": "markdown",
   "metadata": {},
   "source": [
    "## Limitations\n",
    ">The limitations of current study data was seperated into two tables which could affect the process of analysis. On the other hand, the population estimation were only recorded for 2010 and 2016, which limit some analysis to a small range."
   ]
  },
  {
   "cell_type": "code",
   "execution_count": 48,
   "metadata": {},
   "outputs": [
    {
     "data": {
      "text/plain": [
       "4294967295"
      ]
     },
     "execution_count": 48,
     "metadata": {},
     "output_type": "execute_result"
    }
   ],
   "source": [
    "from subprocess import call\n",
    "call(['python', '-m', 'nbconvert', 'Investigate_a_Dataset.ipynb'])"
   ]
  },
  {
   "cell_type": "code",
   "execution_count": null,
   "metadata": {},
   "outputs": [],
   "source": []
  },
  {
   "cell_type": "code",
   "execution_count": null,
   "metadata": {},
   "outputs": [],
   "source": []
  }
 ],
 "metadata": {
  "kernelspec": {
   "display_name": "Python 3",
   "language": "python",
   "name": "python3"
  },
  "language_info": {
   "codemirror_mode": {
    "name": "ipython",
    "version": 3
   },
   "file_extension": ".py",
   "mimetype": "text/x-python",
   "name": "python",
   "nbconvert_exporter": "python",
   "pygments_lexer": "ipython3",
   "version": "3.7.1"
  }
 },
 "nbformat": 4,
 "nbformat_minor": 2
}
